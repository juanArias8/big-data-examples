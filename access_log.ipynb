{
 "cells": [
  {
   "cell_type": "markdown",
   "metadata": {
    "colab_type": "text",
    "id": "SH88ovwMfLdv"
   },
   "source": [
    "# Analisis de logs con Python"
   ]
  },
  {
   "cell_type": "markdown",
   "metadata": {
    "colab_type": "text",
    "id": "ESMLLp85fLdy"
   },
   "source": [
    "## Importar librerias"
   ]
  },
  {
   "cell_type": "code",
   "execution_count": 2,
   "metadata": {
    "colab": {},
    "colab_type": "code",
    "id": "4-vj0JqIfLd0"
   },
   "outputs": [],
   "source": [
    "# from google.colab import drive\n",
    "import matplotlib.pyplot as plt"
   ]
  },
  {
   "cell_type": "code",
   "execution_count": 3,
   "metadata": {
    "colab": {
     "base_uri": "https://localhost:8080/",
     "height": 122
    },
    "colab_type": "code",
    "id": "eao-Qks3f6zA",
    "outputId": "10fd93de-dc7c-46e8-92e0-d5a0079f79bf"
   },
   "outputs": [
    {
     "name": "stdout",
     "output_type": "stream",
     "text": [
      "Go to this URL in a browser: https://accounts.google.com/o/oauth2/auth?client_id=947318989803-6bn6qk8qdgf4n4g3pfee6491hc0brc4i.apps.googleusercontent.com&redirect_uri=urn%3Aietf%3Awg%3Aoauth%3A2.0%3Aoob&scope=email%20https%3A%2F%2Fwww.googleapis.com%2Fauth%2Fdocs.test%20https%3A%2F%2Fwww.googleapis.com%2Fauth%2Fdrive%20https%3A%2F%2Fwww.googleapis.com%2Fauth%2Fdrive.photos.readonly%20https%3A%2F%2Fwww.googleapis.com%2Fauth%2Fpeopleapi.readonly&response_type=code\n",
      "\n",
      "Enter your authorization code:\n",
      "··········\n",
      "Mounted at /gdrive\n"
     ]
    }
   ],
   "source": [
    "# drive.mount('/gdrive', force_remount=True)"
   ]
  },
  {
   "cell_type": "markdown",
   "metadata": {
    "colab_type": "text",
    "id": "1IgkhPF-Jrqv"
   },
   "source": [
    "## Funciones"
   ]
  },
  {
   "cell_type": "markdown",
   "metadata": {
    "colab_type": "text",
    "id": "DQ3boOpNOAUU"
   },
   "source": [
    "### Leer archivo"
   ]
  },
  {
   "cell_type": "code",
   "execution_count": 3,
   "metadata": {
    "colab": {},
    "colab_type": "code",
    "id": "p3EN7l8hmKZs"
   },
   "outputs": [],
   "source": [
    "def read_file(file):\n",
    "    with open(file, 'r') as file:\n",
    "        data = file.readlines()\n",
    "        return [line.strip() for line in data]"
   ]
  },
  {
   "cell_type": "markdown",
   "metadata": {
    "colab_type": "text",
    "id": "_dPUwgGVRTV2"
   },
   "source": [
    "### Obtener datos de una columna por índice"
   ]
  },
  {
   "cell_type": "code",
   "execution_count": 4,
   "metadata": {
    "colab": {},
    "colab_type": "code",
    "id": "Cbs9Rj_vRWVX"
   },
   "outputs": [],
   "source": [
    "def filter_by_column(array, index):\n",
    "  return [line.split(' ')[index] for line in array]"
   ]
  },
  {
   "cell_type": "markdown",
   "metadata": {
    "colab_type": "text",
    "id": "VtrNvWVYOCxN"
   },
   "source": [
    "### Filtrar registros basados en el valor de una columna"
   ]
  },
  {
   "cell_type": "code",
   "execution_count": 5,
   "metadata": {
    "colab": {},
    "colab_type": "code",
    "id": "pqUR-9PP9Awd"
   },
   "outputs": [],
   "source": [
    "def include_filter(array, column_index, value):\n",
    "  return [line for line in array if line.split(' ')[column_index] == value]"
   ]
  },
  {
   "cell_type": "markdown",
   "metadata": {
    "colab_type": "text",
    "id": "7bOb7kZGOZRP"
   },
   "source": [
    "### Filtrar registros por atributo donde los valores sean diferentes"
   ]
  },
  {
   "cell_type": "code",
   "execution_count": 6,
   "metadata": {
    "colab": {},
    "colab_type": "code",
    "id": "Nops0pXoAnP_"
   },
   "outputs": [],
   "source": [
    "def exclude_filter(array, column_index, value):\n",
    "  return [line for line in array if line.split(' ')[column_index] != value]"
   ]
  },
  {
   "cell_type": "markdown",
   "metadata": {
    "colab_type": "text",
    "id": "rftaoeXRfLd_"
   },
   "source": [
    "## Revisión general"
   ]
  },
  {
   "cell_type": "markdown",
   "metadata": {
    "colab_type": "text",
    "id": "GUA0I6ALPrVS"
   },
   "source": [
    "### Cargar el archivo"
   ]
  },
  {
   "cell_type": "code",
   "execution_count": 8,
   "metadata": {
    "colab": {
     "base_uri": "https://localhost:8080/",
     "height": 207
    },
    "colab_type": "code",
    "id": "zJ5o85Y6fLeB",
    "outputId": "666e38e2-8ebe-42c2-9a2e-ed175120e78f"
   },
   "outputs": [
    {
     "data": {
      "text/plain": [
       "['64.242.88.10 - - [07/Mar/2004:16:05:49 -0800] \"GET /twiki/bin/edit/Main/Double_bounce_sender?topicparent=Main.ConfigurationVariables HTTP/1.1\" 401 12846',\n",
       " '64.242.88.10 - - [07/Mar/2004:16:06:51 -0800] \"GET /twiki/bin/rdiff/TWiki/NewUserTemplate?rev1=1.3&rev2=1.2 HTTP/1.1\" 200 4523',\n",
       " '64.242.88.10 - - [07/Mar/2004:16:10:02 -0800] \"GET /mailman/listinfo/hsdivision HTTP/1.1\" 200 6291',\n",
       " '64.242.88.10 - - [07/Mar/2004:16:11:58 -0800] \"GET /twiki/bin/view/TWiki/WikiSyntax HTTP/1.1\" 200 7352',\n",
       " '64.242.88.10 - - [07/Mar/2004:16:20:55 -0800] \"GET /twiki/bin/view/Main/DCCAndPostFix HTTP/1.1\" 200 5253',\n",
       " '64.242.88.10 - - [07/Mar/2004:16:23:12 -0800] \"GET /twiki/bin/oops/TWiki/AppendixFileSystem?template=oopsmore&param1=1.12&param2=1.12 HTTP/1.1\" 200 11382',\n",
       " '64.242.88.10 - - [07/Mar/2004:16:24:16 -0800] \"GET /twiki/bin/view/Main/PeterThoeny HTTP/1.1\" 200 4924',\n",
       " '64.242.88.10 - - [07/Mar/2004:16:29:16 -0800] \"GET /twiki/bin/edit/Main/Header_checks?topicparent=Main.ConfigurationVariables HTTP/1.1\" 401 12851',\n",
       " '64.242.88.10 - - [07/Mar/2004:16:30:29 -0800] \"GET /twiki/bin/attach/Main/OfficeLocations HTTP/1.1\" 401 12851',\n",
       " '64.242.88.10 - - [07/Mar/2004:16:31:48 -0800] \"GET /twiki/bin/view/TWiki/WebTopicEditTemplate HTTP/1.1\" 200 3732']"
      ]
     },
     "execution_count": 8,
     "metadata": {},
     "output_type": "execute_result"
    }
   ],
   "source": [
    "# file_log = '/gdrive/My Drive/Colab Notebooks/code/example_log/access_log'    \n",
    "file_log = 'data/access_log'    \n",
    "data = read_file(file_log)\n",
    "data[:10]"
   ]
  },
  {
   "cell_type": "markdown",
   "metadata": {
    "colab_type": "text",
    "id": "UksNgGmSfLeJ"
   },
   "source": [
    "### conteo de peticiones"
   ]
  },
  {
   "cell_type": "code",
   "execution_count": 9,
   "metadata": {
    "colab": {
     "base_uri": "https://localhost:8080/",
     "height": 51
    },
    "colab_type": "code",
    "id": "QgIHM0_IfLeM",
    "outputId": "16e427a4-c4e0-4a59-91e2-a7b31f8902cc"
   },
   "outputs": [
    {
     "name": "stdout",
     "output_type": "stream",
     "text": [
      "número de peticiones\n",
      "1546\n"
     ]
    }
   ],
   "source": [
    "print('número de peticiones')\n",
    "print(len(data))"
   ]
  },
  {
   "cell_type": "markdown",
   "metadata": {
    "colab_type": "text",
    "id": "lDIVWmA7fLeW"
   },
   "source": [
    "### Ver primeras 5 peticiones"
   ]
  },
  {
   "cell_type": "code",
   "execution_count": 10,
   "metadata": {
    "colab": {
     "base_uri": "https://localhost:8080/",
     "height": 122
    },
    "colab_type": "code",
    "id": "cGo99VElfLea",
    "outputId": "f468e7f2-02a4-41b0-f3d0-c9d69d12c2b5"
   },
   "outputs": [
    {
     "data": {
      "text/plain": [
       "['64.242.88.10 - - [07/Mar/2004:16:05:49 -0800] \"GET /twiki/bin/edit/Main/Double_bounce_sender?topicparent=Main.ConfigurationVariables HTTP/1.1\" 401 12846',\n",
       " '64.242.88.10 - - [07/Mar/2004:16:06:51 -0800] \"GET /twiki/bin/rdiff/TWiki/NewUserTemplate?rev1=1.3&rev2=1.2 HTTP/1.1\" 200 4523',\n",
       " '64.242.88.10 - - [07/Mar/2004:16:10:02 -0800] \"GET /mailman/listinfo/hsdivision HTTP/1.1\" 200 6291',\n",
       " '64.242.88.10 - - [07/Mar/2004:16:11:58 -0800] \"GET /twiki/bin/view/TWiki/WikiSyntax HTTP/1.1\" 200 7352',\n",
       " '64.242.88.10 - - [07/Mar/2004:16:20:55 -0800] \"GET /twiki/bin/view/Main/DCCAndPostFix HTTP/1.1\" 200 5253']"
      ]
     },
     "execution_count": 10,
     "metadata": {},
     "output_type": "execute_result"
    }
   ],
   "source": [
    "data[:5]"
   ]
  },
  {
   "cell_type": "markdown",
   "metadata": {
    "colab_type": "text",
    "id": "PjmDEHKHfLek"
   },
   "source": [
    "### Peticiones exitosas"
   ]
  },
  {
   "cell_type": "code",
   "execution_count": 11,
   "metadata": {
    "colab": {
     "base_uri": "https://localhost:8080/",
     "height": 139
    },
    "colab_type": "code",
    "id": "xPDNDMzPfLem",
    "outputId": "35dc37de-c444-42ec-9614-c5681ad1e4d8"
   },
   "outputs": [
    {
     "name": "stdout",
     "output_type": "stream",
     "text": [
      "1274\n"
     ]
    },
    {
     "data": {
      "text/plain": [
       "['64.242.88.10 - - [07/Mar/2004:16:06:51 -0800] \"GET /twiki/bin/rdiff/TWiki/NewUserTemplate?rev1=1.3&rev2=1.2 HTTP/1.1\" 200 4523',\n",
       " '64.242.88.10 - - [07/Mar/2004:16:10:02 -0800] \"GET /mailman/listinfo/hsdivision HTTP/1.1\" 200 6291',\n",
       " '64.242.88.10 - - [07/Mar/2004:16:11:58 -0800] \"GET /twiki/bin/view/TWiki/WikiSyntax HTTP/1.1\" 200 7352',\n",
       " '64.242.88.10 - - [07/Mar/2004:16:20:55 -0800] \"GET /twiki/bin/view/Main/DCCAndPostFix HTTP/1.1\" 200 5253',\n",
       " '64.242.88.10 - - [07/Mar/2004:16:23:12 -0800] \"GET /twiki/bin/oops/TWiki/AppendixFileSystem?template=oopsmore&param1=1.12&param2=1.12 HTTP/1.1\" 200 11382']"
      ]
     },
     "execution_count": 11,
     "metadata": {},
     "output_type": "execute_result"
    }
   ],
   "source": [
    "success = include_filter(data, -2, '200')\n",
    "print(len(success))\n",
    "success[:5]"
   ]
  },
  {
   "cell_type": "markdown",
   "metadata": {
    "colab_type": "text",
    "id": "8UG6aZFYQOq3"
   },
   "source": [
    "### Peticiones fallidas"
   ]
  },
  {
   "cell_type": "code",
   "execution_count": 12,
   "metadata": {
    "colab": {
     "base_uri": "https://localhost:8080/",
     "height": 139
    },
    "colab_type": "code",
    "id": "jo7wwbQ_QREc",
    "outputId": "cb03b54d-fb87-4c7c-8f16-be6a793f41f9"
   },
   "outputs": [
    {
     "name": "stdout",
     "output_type": "stream",
     "text": [
      "272\n"
     ]
    },
    {
     "data": {
      "text/plain": [
       "['64.242.88.10 - - [07/Mar/2004:16:05:49 -0800] \"GET /twiki/bin/edit/Main/Double_bounce_sender?topicparent=Main.ConfigurationVariables HTTP/1.1\" 401 12846',\n",
       " '64.242.88.10 - - [07/Mar/2004:16:29:16 -0800] \"GET /twiki/bin/edit/Main/Header_checks?topicparent=Main.ConfigurationVariables HTTP/1.1\" 401 12851',\n",
       " '64.242.88.10 - - [07/Mar/2004:16:30:29 -0800] \"GET /twiki/bin/attach/Main/OfficeLocations HTTP/1.1\" 401 12851',\n",
       " '64.242.88.10 - - [07/Mar/2004:16:33:53 -0800] \"GET /twiki/bin/edit/Main/Smtpd_etrn_restrictions?topicparent=Main.ConfigurationVariables HTTP/1.1\" 401 12851',\n",
       " '64.242.88.10 - - [07/Mar/2004:16:45:56 -0800] \"GET /twiki/bin/attach/Main/PostfixCommands HTTP/1.1\" 401 12846']"
      ]
     },
     "execution_count": 12,
     "metadata": {},
     "output_type": "execute_result"
    }
   ],
   "source": [
    "fail = exclude_filter(data, -2, '200')\n",
    "print(len(fail))\n",
    "fail[:5]"
   ]
  },
  {
   "cell_type": "markdown",
   "metadata": {
    "colab_type": "text",
    "id": "l6ETneblNyDH"
   },
   "source": [
    "## Peticiones GET"
   ]
  },
  {
   "cell_type": "markdown",
   "metadata": {
    "colab_type": "text",
    "id": "X2oBXXcRfLe0"
   },
   "source": [
    "### Cantidad de peticiones GET"
   ]
  },
  {
   "cell_type": "code",
   "execution_count": 13,
   "metadata": {
    "colab": {
     "base_uri": "https://localhost:8080/",
     "height": 34
    },
    "colab_type": "code",
    "id": "rq1p6Jd4fLe2",
    "outputId": "5d944322-3f35-4598-a2f5-7dfdca4a16a4"
   },
   "outputs": [
    {
     "name": "stdout",
     "output_type": "stream",
     "text": [
      "La cantidad total de peticiones GET es 1525\n"
     ]
    }
   ],
   "source": [
    "get_request = include_filter(data, 5, '\"GET')\n",
    "print(f'La cantidad total de peticiones GET es {len(get_request)}')"
   ]
  },
  {
   "cell_type": "markdown",
   "metadata": {
    "colab_type": "text",
    "id": "Og8Nk85a7vDt"
   },
   "source": [
    "### Peticiones exitosas vs fallidas"
   ]
  },
  {
   "cell_type": "code",
   "execution_count": 14,
   "metadata": {
    "colab": {
     "base_uri": "https://localhost:8080/",
     "height": 289
    },
    "colab_type": "code",
    "id": "W1gzccHf72Ae",
    "outputId": "87c4f594-c0f1-43ad-88f2-8fa6546234fe"
   },
   "outputs": [
    {
     "name": "stdout",
     "output_type": "stream",
     "text": [
      "La cantidad total de peticiones GET exitisas es 1254\n",
      "La cantidad total de peticiones GET fallidas es 271\n"
     ]
    },
    {
     "data": {
      "image/png": "[encoded data removed]",
      "text/plain": [
       "<Figure size 432x288 with 1 Axes>"
      ]
     },
     "metadata": {},
     "output_type": "display_data"
    }
   ],
   "source": [
    "success_get_request = include_filter(get_request, -2, '200')\n",
    "fail_get_request = exclude_filter(get_request, -2, '200')\n",
    "\n",
    "success_amount = len(success_get_request)\n",
    "fail_amount = len(fail_get_request)\n",
    "\n",
    "print(f'La cantidad total de peticiones GET exitisas es {success_amount}')\n",
    "print(f'La cantidad total de peticiones GET fallidas es {fail_amount}')\n",
    "\n",
    "labels = 'Éxito', 'Fallo'\n",
    "sizes = [success_amount, fail_amount]\n",
    "\n",
    "fig1, ax1 = plt.subplots()\n",
    "ax1.pie(sizes,labels=labels, autopct='%1.1f%%', shadow=True, startangle=90)\n",
    "ax1.axis('equal') \n",
    "\n",
    "plt.show()"
   ]
  },
  {
   "cell_type": "markdown",
   "metadata": {
    "colab_type": "text",
    "id": "ZePzjlY_MMi8"
   },
   "source": [
    "## Peticiones POST"
   ]
  },
  {
   "cell_type": "markdown",
   "metadata": {
    "colab_type": "text",
    "id": "82LuU4m_Mrc1"
   },
   "source": [
    "### Cantidad de peticiones POST"
   ]
  },
  {
   "cell_type": "code",
   "execution_count": 15,
   "metadata": {
    "colab": {
     "base_uri": "https://localhost:8080/",
     "height": 34
    },
    "colab_type": "code",
    "id": "3MWv_uHlMvjj",
    "outputId": "5525ae62-9624-4dfc-dba7-b79564202e12"
   },
   "outputs": [
    {
     "name": "stdout",
     "output_type": "stream",
     "text": [
      "La cantidad total de peticiones POST es 14\n"
     ]
    }
   ],
   "source": [
    "get_request = include_filter(data, 5, '\"POST')\n",
    "print(f'La cantidad total de peticiones POST es {len(get_request)}')"
   ]
  },
  {
   "cell_type": "markdown",
   "metadata": {
    "colab_type": "text",
    "id": "yJjtBBymM5Wu"
   },
   "source": [
    "### Peticiones exitosas vs fallidas"
   ]
  },
  {
   "cell_type": "code",
   "execution_count": 16,
   "metadata": {
    "colab": {
     "base_uri": "https://localhost:8080/",
     "height": 292
    },
    "colab_type": "code",
    "id": "DprOUJLNM9IF",
    "outputId": "3b58b26f-64f7-4fb6-a17b-2bc15c22c433"
   },
   "outputs": [
    {
     "name": "stdout",
     "output_type": "stream",
     "text": [
      "La cantidad total de peticiones POST exitisas es 14\n",
      "La cantidad total de peticiones POST fallidas es 0\n"
     ]
    },
    {
     "data": {
      "image/png": "[encoded data removed]",
      "text/plain": [
       "<Figure size 432x288 with 1 Axes>"
      ]
     },
     "metadata": {},
     "output_type": "display_data"
    }
   ],
   "source": [
    "success_post_request = include_filter(get_request, -2, '200')\n",
    "fail_post_request = exclude_filter(get_request, -2, '200')\n",
    "\n",
    "success_amount = len(success_post_request)\n",
    "fail_amount = len(fail_post_request)\n",
    "\n",
    "print(f'La cantidad total de peticiones POST exitisas es {success_amount}')\n",
    "print(f'La cantidad total de peticiones POST fallidas es {fail_amount}')\n",
    "\n",
    "labels = 'Éxito', 'Fallo'\n",
    "sizes = [success_amount, fail_amount]\n",
    "\n",
    "fig1, ax1 = plt.subplots()\n",
    "ax1.pie(sizes,labels=labels, autopct='%1.1f%%', shadow=True, startangle=90)\n",
    "ax1.axis('equal') \n",
    "\n",
    "plt.show()"
   ]
  },
  {
   "cell_type": "markdown",
   "metadata": {
    "colab_type": "text",
    "id": "IztlV14SfLfD"
   },
   "source": [
    "## Nombres de dominio e IPs"
   ]
  },
  {
   "cell_type": "markdown",
   "metadata": {
    "colab_type": "text",
    "id": "kcs7IYNyQqmJ"
   },
   "source": [
    "### Listar diferentes IPs que hicieron solicitudes"
   ]
  },
  {
   "cell_type": "code",
   "execution_count": 31,
   "metadata": {
    "colab": {
     "base_uri": "https://localhost:8080/",
     "height": 71
    },
    "colab_type": "code",
    "id": "rMJH0F40QuEm",
    "outputId": "4bd350f1-e54f-45a2-fb63-3b5e308e76eb"
   },
   "outputs": [
    {
     "name": "stdout",
     "output_type": "stream",
     "text": [
      "La cantidad de dominios diferentes son 172\n",
      "['64-93-34-186.client.dsl.net', 'pc3-registry-stockholm.telia.net', 'ppp2.p33.is.com.ua', 'ic8234.upco.es', 'lj1061.inktomisearch.com']\n"
     ]
    }
   ],
   "source": [
    "domains_list = filter_by_column(data, 0)\n",
    "diferent_domains = set(domains_list)\n",
    "\n",
    "print(f'La cantidad de dominios diferentes son {len(diferent_domains)}')\n",
    "print(list(diferent_domains)[:5])"
   ]
  },
  {
   "cell_type": "markdown",
   "metadata": {
    "colab_type": "text",
    "id": "nCQTdh_BXXRr"
   },
   "source": [
    "### Contar peticiones por dominio"
   ]
  },
  {
   "cell_type": "code",
   "execution_count": 32,
   "metadata": {
    "colab": {
     "base_uri": "https://localhost:8080/",
     "height": 54
    },
    "colab_type": "code",
    "id": "BSEpreWJXdgC",
    "outputId": "db67461a-7339-4082-bce5-084e63d05030"
   },
   "outputs": [
    {
     "name": "stdout",
     "output_type": "stream",
     "text": [
      "[('64-93-34-186.client.dsl.net', 1), ('pc3-registry-stockholm.telia.net', 13), ('ppp2.p33.is.com.ua', 3), ('ic8234.upco.es', 4), ('lj1061.inktomisearch.com', 1)]\n"
     ]
    }
   ],
   "source": [
    "domains_counter = dict()\n",
    "\n",
    "for domain in diferent_domains:\n",
    "    domains_counter.update({domain: domains_list.count(domain)})\n",
    "\n",
    "print(list(domains_counter.items())[:5])"
   ]
  },
  {
   "cell_type": "markdown",
   "metadata": {
    "colab_type": "text",
    "id": "AOieFZHfZmIN"
   },
   "source": [
    "### Ordenar peticiones por mayor cantidad"
   ]
  },
  {
   "cell_type": "code",
   "execution_count": 26,
   "metadata": {
    "colab": {
     "base_uri": "https://localhost:8080/",
     "height": 54
    },
    "colab_type": "code",
    "id": "Tg49F1b3ZtK8",
    "outputId": "c3b962cb-8d00-467f-bc87-7ccdbdf6f330"
   },
   "outputs": [
    {
     "name": "stdout",
     "output_type": "stream",
     "text": [
      "[('64-93-34-186.client.dsl.net', 0), ('pc3-registry-stockholm.telia.net', 0), ('ppp2.p33.is.com.ua', 0), ('ic8234.upco.es', 0), ('lj1061.inktomisearch.com', 0)]\n"
     ]
    }
   ],
   "source": [
    "domains_list = list(domains_counter.items())\n",
    "domains_sorted = sorted(domains_list, key=lambda domain: domain[1], reverse=True)\n",
    "\n",
    "print(domains_sorted[:5])"
   ]
  },
  {
   "cell_type": "markdown",
   "metadata": {
    "colab_type": "text",
    "id": "mVbHCpIBcGw4"
   },
   "source": [
    "### Mostrar los 5 dominios que hicieron más solicitudes"
   ]
  },
  {
   "cell_type": "code",
   "execution_count": 20,
   "metadata": {
    "colab": {
     "base_uri": "https://localhost:8080/",
     "height": 256
    },
    "colab_type": "code",
    "id": "XEDueQAMcJUu",
    "outputId": "7caf4b80-a32c-4c2d-da3e-08b1cc9b718c"
   },
   "outputs": [
    {
     "data": {
      "image/png": "[encoded data removed]",
      "text/plain": [
       "<Figure size 432x288 with 1 Axes>"
      ]
     },
     "metadata": {},
     "output_type": "display_data"
    }
   ],
   "source": [
    "labels = [domain[0] for domain in domains_sorted[:5]]\n",
    "sizes = [domain[1] for domain in domains_sorted[:5]]\n",
    "\n",
    "fig1, ax1 = plt.subplots()\n",
    "ax1.pie(sizes,labels=labels, autopct='%1.1f%%', shadow=True, startangle=90)\n",
    "ax1.axis('equal') \n",
    "\n",
    "plt.show()"
   ]
  },
  {
   "cell_type": "markdown",
   "metadata": {
    "colab_type": "text",
    "id": "gbGrWMdfCYIt"
   },
   "source": [
    "## Fechas"
   ]
  },
  {
   "cell_type": "markdown",
   "metadata": {
    "colab_type": "text",
    "id": "MgxOf1l0EWJx"
   },
   "source": [
    "### Obtener las distintas fechas DD/MM/YYYY en las que se hicieron peticiones"
   ]
  },
  {
   "cell_type": "code",
   "execution_count": 21,
   "metadata": {
    "colab": {
     "base_uri": "https://localhost:8080/",
     "height": 119
    },
    "colab_type": "code",
    "id": "sY7XSJU_CaB9",
    "outputId": "51c79c87-a1ce-44af-b609-e0ef9cd99ee9"
   },
   "outputs": [
    {
     "data": {
      "text/plain": [
       "['07/Mar/2004',\n",
       " '10/Mar/2004',\n",
       " '08/Mar/2004',\n",
       " '09/Mar/2004',\n",
       " '11/Mar/2004',\n",
       " '12/Mar/2004']"
      ]
     },
     "execution_count": 21,
     "metadata": {},
     "output_type": "execute_result"
    }
   ],
   "source": [
    "dates_hours = filter_by_column(data, 3)\n",
    "dates = [date.split(':')[0][1:] for date in dates_hours]\n",
    "diferent_dates = list(set(dates))\n",
    "diferent_dates"
   ]
  },
  {
   "cell_type": "markdown",
   "metadata": {
    "colab_type": "text",
    "id": "cssT9zhbEjti"
   },
   "source": [
    "### Contar número de peticiones por fecha"
   ]
  },
  {
   "cell_type": "code",
   "execution_count": 22,
   "metadata": {
    "colab": {
     "base_uri": "https://localhost:8080/",
     "height": 54
    },
    "colab_type": "code",
    "id": "ekcMWhFXDDWi",
    "outputId": "a5a3c991-fa37-4fd5-bb7b-d5dc5b149108"
   },
   "outputs": [
    {
     "name": "stdout",
     "output_type": "stream",
     "text": [
      "{'07/Mar/2004': 196, '10/Mar/2004': 286, '08/Mar/2004': 559, '09/Mar/2004': 233, '11/Mar/2004': 199, '12/Mar/2004': 73}\n"
     ]
    }
   ],
   "source": [
    "dates_counter= dict()\n",
    "\n",
    "for date in diferent_dates:\n",
    "  dates_counter.update({date: dates.count(date)})\n",
    "\n",
    "print(dates_counter)"
   ]
  },
  {
   "cell_type": "markdown",
   "metadata": {
    "colab_type": "text",
    "id": "Cpl52Sh0Fgof"
   },
   "source": [
    "### Graficar cantidad de peticiones por fecha"
   ]
  },
  {
   "cell_type": "code",
   "execution_count": 23,
   "metadata": {
    "colab": {
     "base_uri": "https://localhost:8080/",
     "height": 349
    },
    "colab_type": "code",
    "id": "DPxXdytHDSSI",
    "outputId": "49ad96f4-4dcb-4ffc-861f-afeef3da249d"
   },
   "outputs": [
    {
     "data": {
      "image/png": "[encoded data removed]",
      "text/plain": [
       "<Figure size 432x288 with 1 Axes>"
      ]
     },
     "metadata": {
      "needs_background": "light"
     },
     "output_type": "display_data"
    }
   ],
   "source": [
    "dates_counter_list = list(dates_counter.items())\n",
    "\n",
    "labels = [date[0] for date in dates_counter_list]\n",
    "values = [date[1] for date in dates_counter_list]\n",
    "\n",
    "\n",
    "fig1, ax1 = plt.subplots()\n",
    "ax1.bar(labels, values)\n",
    "plt.xticks(labels, rotation='vertical')\n",
    "plt.xlabel('Fechas')\n",
    "plt.ylabel('Peticiones')\n",
    "plt.title('Peticiones por fecha')\n",
    "plt.show()"
   ]
  }
 ],
 "metadata": {
  "colab": {
   "name": "Ejercicio con python.ipynb",
   "provenance": [],
   "toc_visible": true,
   "version": "0.3.2"
  },
  "kernelspec": {
   "display_name": "Python 3",
   "language": "python",
   "name": "python3"
  },
  "language_info": {
   "codemirror_mode": {
    "name": "ipython",
    "version": 3
   },
   "file_extension": ".py",
   "mimetype": "text/x-python",
   "name": "python",
   "nbconvert_exporter": "python",
   "pygments_lexer": "ipython3",
   "version": "3.7.4"
  }
 },
 "nbformat": 4,
 "nbformat_minor": 4
}
