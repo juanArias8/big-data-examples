{
 "cells": [
  {
   "cell_type": "markdown",
   "metadata": {
    "colab_type": "text",
    "id": "llTv8Q3Raala"
   },
   "source": [
    "# Análisis de archivos pruebas saber pro "
   ]
  },
  {
   "cell_type": "markdown",
   "metadata": {
    "colab_type": "text",
    "id": "85OLEfkTai7p"
   },
   "source": [
    "Con los archivos de las pruebas del saber y de clasificación colegios de los años 2006 al 2019 responder las siguientes preguntas.\n",
    "\n",
    "* Con los archivos de las pruebas saber calcular y mostrar el ranking de los colegios por años. De mayor puntaje a menor puntaje. \n",
    "* mostrar gráficamente un rankin de los 10 primeros colegios. Para este rankin se debe tener en cuenta la cantidad de estudiantes.\n",
    "* Cada estudiante puede presentar su prueba vinculado a un colegio o como prueba individual. Calcular el número de estudiantes para cada año de cada grupo. \n"
   ]
  },
  {
   "cell_type": "markdown",
   "metadata": {
    "colab_type": "text",
    "id": "JUC2hNGTba2S"
   },
   "source": [
    "## Pasos generales"
   ]
  },
  {
   "cell_type": "markdown",
   "metadata": {
    "colab_type": "text",
    "id": "b-Tl0cFCFBIm"
   },
   "source": [
    "### Importar módulos generales"
   ]
  },
  {
   "cell_type": "code",
   "execution_count": null,
   "metadata": {
    "colab": {},
    "colab_type": "code",
    "id": "nYiS-mSJEKeF"
   },
   "outputs": [],
   "source": [
    "import os\n",
    "import matplotlib.pyplot as plt\n",
    "\n",
    "from google.colab import drive\n",
    "from os import listdir\n",
    "from os.path import isfile, join\n",
    "from zipfile import ZipFile\n",
    "\n",
    "from functools import reduce\n",
    "from operator import add"
   ]
  },
  {
   "cell_type": "markdown",
   "metadata": {
    "colab_type": "text",
    "id": "Fp3YvJ4ExMcQ"
   },
   "source": [
    "### Configurar ambientes Spark"
   ]
  },
  {
   "cell_type": "code",
   "execution_count": null,
   "metadata": {
    "colab": {},
    "colab_type": "code",
    "id": "_II0wHt5cj3u"
   },
   "outputs": [],
   "source": [
    "!apt-get install openjdk-8-jdk-headless -qq > /dev/null\n",
    "!wget -q http://apache.osuosl.org/spark/spark-2.4.4/spark-2.4.4-bin-hadoop2.7.tgz\n",
    "!tar xf spark-2.4.4-bin-hadoop2.7.tgz\n",
    "!pip install -q findspark"
   ]
  },
  {
   "cell_type": "code",
   "execution_count": null,
   "metadata": {
    "colab": {},
    "colab_type": "code",
    "id": "5MB5gKJIEvmh"
   },
   "outputs": [],
   "source": [
    "os.environ[\"JAVA_HOME\"] = \"/usr/lib/jvm/java-8-openjdk-amd64\"\n",
    "os.environ[\"SPARK_HOME\"] = \"/content/spark-2.4.4-bin-hadoop2.7\""
   ]
  },
  {
   "cell_type": "code",
   "execution_count": null,
   "metadata": {
    "colab": {},
    "colab_type": "code",
    "id": "pzinLeIAENKK"
   },
   "outputs": [],
   "source": [
    "import findspark\n",
    "findspark.init()\n",
    "\n",
    "from pyspark import SparkContext\n",
    "from pyspark import SparkConf\n",
    "\n",
    "from pyspark.sql import SparkSession\n",
    "from pyspark.sql import SQLContext\n",
    "from pyspark.sql import functions as F\n",
    "\n",
    "from pyspark.sql.functions import col\n",
    "from pyspark.sql.functions import lit\n",
    "from pyspark.sql.functions import regexp_replace\n",
    "\n",
    "from pyspark.sql.types import StructField\n",
    "from pyspark.sql.types import StructType\n",
    "from pyspark.sql.types import StringType\n",
    "from pyspark.sql.types import IntegerType\n",
    "from pyspark.sql.types import DoubleType"
   ]
  },
  {
   "cell_type": "code",
   "execution_count": null,
   "metadata": {
    "colab": {},
    "colab_type": "code",
    "id": "vEkdp-nhEPLg"
   },
   "outputs": [],
   "source": [
    "conf = SparkConf().setAppName(\"icfes\").setMaster(\"local[*]\")\n",
    "sc = SparkContext(conf=conf)\n",
    "\n",
    "spark = SQLContext(sc)\n",
    "spark = SparkSession.builder.master(\"local[*]\").getOrCreate()"
   ]
  },
  {
   "cell_type": "markdown",
   "metadata": {
    "colab_type": "text",
    "id": "G1tA-LDrawfR"
   },
   "source": [
    "### Conectar google drive"
   ]
  },
  {
   "cell_type": "code",
   "execution_count": 6,
   "metadata": {
    "colab": {
     "base_uri": "https://localhost:8080/",
     "height": 34
    },
    "colab_type": "code",
    "id": "0rBb1jgUbHDN",
    "outputId": "562180ee-b6bd-45ac-cf43-16ec9e83cf08"
   },
   "outputs": [
    {
     "name": "stdout",
     "output_type": "stream",
     "text": [
      "Mounted at /gdrive\n"
     ]
    }
   ],
   "source": [
    "drive.mount('/gdrive', force_remount=True)"
   ]
  },
  {
   "cell_type": "markdown",
   "metadata": {
    "colab_type": "text",
    "id": "jVHUVcGej8zB"
   },
   "source": [
    "## Preprocesamiento"
   ]
  },
  {
   "cell_type": "markdown",
   "metadata": {
    "colab_type": "text",
    "id": "P0hcVVD8bk7g"
   },
   "source": [
    "### Definir ruta de archivos"
   ]
  },
  {
   "cell_type": "code",
   "execution_count": null,
   "metadata": {
    "colab": {},
    "colab_type": "code",
    "id": "VEg4TQSdbK1q"
   },
   "outputs": [],
   "source": [
    "folder_url = '/gdrive/My Drive/Colab Notebooks/code/example_icfes/'\n",
    "schools_url = '/gdrive/My Drive/Colab Notebooks/code/example_icfes/Colegios'\n",
    "sb_url = '/gdrive/My Drive/Colab Notebooks/code/example_icfes/SB'\n",
    "\n",
    "target_schools_url = '/gdrive/My Drive/Colab Notebooks/code/example_icfes/schools'\n",
    "target_sb_ulr = '/gdrive/My Drive/Colab Notebooks/code/example_icfes/sb'\n",
    "target_rank_url = '/gdrive/My Drive/Colab Notebooks/code/example_icfes/rank'\n",
    "target_inscription_url = '/gdrive/My Drive/Colab Notebooks/code/example_icfes/inscription'"
   ]
  },
  {
   "cell_type": "markdown",
   "metadata": {
    "colab_type": "text",
    "id": "-_gLH0UZd7Oz"
   },
   "source": [
    "### Funciones preprocesamiento"
   ]
  },
  {
   "cell_type": "code",
   "execution_count": null,
   "metadata": {
    "colab": {},
    "colab_type": "code",
    "id": "sMvs31Pjd8Xu"
   },
   "outputs": [],
   "source": [
    "def list_dir_files(path):\n",
    "  return [f for f in listdir(path) if isfile(join(path, f))]"
   ]
  },
  {
   "cell_type": "code",
   "execution_count": null,
   "metadata": {
    "colab": {},
    "colab_type": "code",
    "id": "NlWswmpZekob"
   },
   "outputs": [],
   "source": [
    "def extract_files(source_path, target_path):\n",
    "  zip_files = list_dir_files(source_path)\n",
    "  \n",
    "  for zip in zip_files:\n",
    "    file_url = f'{source_path}/{zip}'\n",
    "    \n",
    "    with ZipFile(file_url, 'r') as zipObj:\n",
    "      zipObj.extractall(target_path)\n",
    "        \n",
    "      print(f'extracted {file_url}')"
   ]
  },
  {
   "cell_type": "code",
   "execution_count": null,
   "metadata": {
    "colab": {},
    "colab_type": "code",
    "id": "dnTOyR8jjaR0"
   },
   "outputs": [],
   "source": [
    "def normalize_file_names(path, separator):\n",
    "  filenames = list_dir_files(path)\n",
    "  \n",
    "  for filename in filenames:\n",
    "    file = f'{path}/{filename}'\n",
    "    temp_filename = filename.lower().split(separator)[-1]\n",
    "    new_file = f'{path}/{temp_filename}'\n",
    "    os.rename(file, new_file)\n",
    "    \n",
    "    print(f'renamed to {temp_filename}')"
   ]
  },
  {
   "cell_type": "markdown",
   "metadata": {
    "colab_type": "text",
    "id": "Bbx-ubQqdUou"
   },
   "source": [
    "### Extraer archivos de los .zip"
   ]
  },
  {
   "cell_type": "code",
   "execution_count": null,
   "metadata": {
    "colab": {
     "base_uri": "https://localhost:8080/"
    },
    "colab_type": "code",
    "id": "CHb56hxOdTtP",
    "outputId": "157e4767-0fea-4b1c-99bc-b71279bc62be"
   },
   "outputs": [
    {
     "name": "stdout",
     "output_type": "stream",
     "text": [
      "extracted /gdrive/My Drive/Colab Notebooks/code/example_icfes/Colegios/SB11_CLASIFI_PLANTELES_2010.zip\n",
      "extracted /gdrive/My Drive/Colab Notebooks/code/example_icfes/Colegios/SB11_CLASIFI_PLANTELES_2006.zip\n",
      "extracted /gdrive/My Drive/Colab Notebooks/code/example_icfes/Colegios/SB11_CLASIFI_PLANTELES_2008.zip\n",
      "extracted /gdrive/My Drive/Colab Notebooks/code/example_icfes/Colegios/SB11_CLASIFI_PLANTELES_2011.zip\n",
      "extracted /gdrive/My Drive/Colab Notebooks/code/example_icfes/Colegios/SB11_CLASIFI_PLANTELES_20141.zip\n",
      "extracted /gdrive/My Drive/Colab Notebooks/code/example_icfes/Colegios/SB11_CLASIFI_PLANTELES_20142.zip\n",
      "extracted /gdrive/My Drive/Colab Notebooks/code/example_icfes/Colegios/SB11_CLASIFI_PLANTELES_2007.zip\n",
      "extracted /gdrive/My Drive/Colab Notebooks/code/example_icfes/Colegios/SB11_CLASIFI_PLANTELES_20171.zip\n",
      "extracted /gdrive/My Drive/Colab Notebooks/code/example_icfes/Colegios/SB11_CLASIFI_PLANTELES_20152.zip\n",
      "extracted /gdrive/My Drive/Colab Notebooks/code/example_icfes/Colegios/SB11_CLASIFI_PLANTELES_20162.zip\n",
      "extracted /gdrive/My Drive/Colab Notebooks/code/example_icfes/Colegios/SB11_CLASIFI_PLANTELES_20161.zip\n",
      "extracted /gdrive/My Drive/Colab Notebooks/code/example_icfes/Colegios/SB11_CLASIFI_PLANTELES_20172.zip\n",
      "extracted /gdrive/My Drive/Colab Notebooks/code/example_icfes/Colegios/SB11_CLASIFI_PLANTELES_20151.zip\n",
      "extracted /gdrive/My Drive/Colab Notebooks/code/example_icfes/Colegios/SB11_CLASIFI_PLANTELES_20181.zip\n",
      "extracted /gdrive/My Drive/Colab Notebooks/code/example_icfes/Colegios/SB11_CLASIFI_PLANTELES_20182.zip\n",
      "extracted /gdrive/My Drive/Colab Notebooks/code/example_icfes/Colegios/SB11_CLASIFI_PLANTELES_2012.zip\n",
      "extracted /gdrive/My Drive/Colab Notebooks/code/example_icfes/Colegios/SB11_CLASIFI_PLANTELES_2009.zip\n",
      "extracted /gdrive/My Drive/Colab Notebooks/code/example_icfes/Colegios/SB11_CLASIFI_PLANTELES_2013.zip\n",
      "extracted /gdrive/My Drive/Colab Notebooks/code/example_icfes/SB/SB11_20061.zip\n",
      "extracted /gdrive/My Drive/Colab Notebooks/code/example_icfes/SB/SB11_20062.zip\n",
      "extracted /gdrive/My Drive/Colab Notebooks/code/example_icfes/SB/SB11_20071.zip\n",
      "extracted /gdrive/My Drive/Colab Notebooks/code/example_icfes/SB/SB11_20072.zip\n",
      "extracted /gdrive/My Drive/Colab Notebooks/code/example_icfes/SB/SB11_20081.zip\n",
      "extracted /gdrive/My Drive/Colab Notebooks/code/example_icfes/SB/SB11_20082.zip\n",
      "extracted /gdrive/My Drive/Colab Notebooks/code/example_icfes/SB/SB11_20091.zip\n",
      "extracted /gdrive/My Drive/Colab Notebooks/code/example_icfes/SB/SB11_20092.zip\n",
      "extracted /gdrive/My Drive/Colab Notebooks/code/example_icfes/SB/SB11_20101.zip\n",
      "extracted /gdrive/My Drive/Colab Notebooks/code/example_icfes/SB/SB11_20102.zip\n",
      "extracted /gdrive/My Drive/Colab Notebooks/code/example_icfes/SB/SB11_20111.zip\n",
      "extracted /gdrive/My Drive/Colab Notebooks/code/example_icfes/SB/SB11_20112.zip\n",
      "extracted /gdrive/My Drive/Colab Notebooks/code/example_icfes/SB/SB11_20121.zip\n",
      "extracted /gdrive/My Drive/Colab Notebooks/code/example_icfes/SB/SB11_20122.zip\n",
      "extracted /gdrive/My Drive/Colab Notebooks/code/example_icfes/SB/SB11_20131.zip\n",
      "extracted /gdrive/My Drive/Colab Notebooks/code/example_icfes/SB/SB11_20132.zip\n",
      "extracted /gdrive/My Drive/Colab Notebooks/code/example_icfes/SB/SB11_20141.zip\n",
      "extracted /gdrive/My Drive/Colab Notebooks/code/example_icfes/SB/SB11_20142.zip\n",
      "extracted /gdrive/My Drive/Colab Notebooks/code/example_icfes/SB/SB11_20151.zip\n",
      "extracted /gdrive/My Drive/Colab Notebooks/code/example_icfes/SB/SB11_20152.zip\n",
      "extracted /gdrive/My Drive/Colab Notebooks/code/example_icfes/SB/SB11_20161.zip\n",
      "extracted /gdrive/My Drive/Colab Notebooks/code/example_icfes/SB/SB11_20162.zip\n",
      "extracted /gdrive/My Drive/Colab Notebooks/code/example_icfes/SB/SB11_20171.zip\n",
      "extracted /gdrive/My Drive/Colab Notebooks/code/example_icfes/SB/SB11_20172.zip\n",
      "extracted /gdrive/My Drive/Colab Notebooks/code/example_icfes/SB/SB11_20181.zip\n",
      "extracted /gdrive/My Drive/Colab Notebooks/code/example_icfes/SB/SB11_20182.zip\n",
      "extracted /gdrive/My Drive/Colab Notebooks/code/example_icfes/SB/SB11_20191.zip\n"
     ]
    }
   ],
   "source": [
    "extract_files(schools_url, target_schools_url)\n",
    "extract_files(sb_url, target_sb_ulr)"
   ]
  },
  {
   "cell_type": "markdown",
   "metadata": {
    "colab_type": "text",
    "id": "xP_iZKRGltYM"
   },
   "source": [
    "### Estandarizar nombres de archivos"
   ]
  },
  {
   "cell_type": "code",
   "execution_count": null,
   "metadata": {
    "colab": {
     "base_uri": "https://localhost:8080/"
    },
    "colab_type": "code",
    "id": "UOlkkVl0lwe4",
    "outputId": "0e1a9603-a804-4792-8105-f134a8328b86"
   },
   "outputs": [
    {
     "name": "stdout",
     "output_type": "stream",
     "text": [
      "\n",
      "rename schools\n",
      "renamed to 2006.txt\n",
      "renamed to 2008.txt\n",
      "renamed to 2011.txt\n",
      "renamed to 2007.txt\n",
      "renamed to 2012.txt\n",
      "renamed to 2009.txt\n",
      "renamed to 2013.txt\n",
      "renamed to 2010.txt\n",
      "renamed to 20141.txt\n",
      "renamed to 20181.txt\n",
      "renamed to 20142.txt\n",
      "renamed to 20182.txt\n",
      "renamed to 20171.csv\n",
      "renamed to 20152.txt\n",
      "renamed to 20162.txt\n",
      "renamed to 20161.txt\n",
      "renamed to 20172.csv\n",
      "renamed to 20151.txt\n",
      "renamed to 2010.txt\n",
      "renamed to 2006.txt\n",
      "renamed to 2008.txt\n",
      "renamed to 2011.txt\n",
      "renamed to 20141.txt\n",
      "renamed to 20142.txt\n",
      "renamed to 2007.txt\n",
      "renamed to 20171.csv\n",
      "renamed to 20152.txt\n",
      "renamed to 20162.txt\n",
      "renamed to 20161.txt\n",
      "renamed to 20172.csv\n",
      "renamed to 20151.txt\n",
      "renamed to 20181.txt\n",
      "renamed to 20182.txt\n",
      "renamed to 2012.txt\n",
      "renamed to 2009.txt\n",
      "renamed to 2013.txt\n",
      "\n",
      "rename sb\n",
      "renamed to 20061.txt\n",
      "renamed to 20062.txt\n",
      "renamed to 20071.txt\n",
      "renamed to 20072.txt\n",
      "renamed to 20081.txt\n",
      "renamed to 20082.txt\n",
      "renamed to 20091.txt\n",
      "renamed to 20092.txt\n",
      "renamed to 20101.txt\n",
      "renamed to 20102.txt\n",
      "renamed to 20111.txt\n",
      "renamed to 20112.txt\n",
      "renamed to 20121.txt\n",
      "renamed to 20122.txt\n",
      "renamed to 20131.txt\n",
      "renamed to 20132.txt\n",
      "renamed to 20141.txt\n",
      "renamed to 20142.txt\n",
      "renamed to 20151.txt\n",
      "renamed to 20152.txt\n",
      "renamed to 20161.txt\n",
      "renamed to 20162.txt\n",
      "renamed to 20171.txt\n",
      "renamed to 20172.txt\n",
      "renamed to 20181.txt\n",
      "renamed to 20182.txt\n",
      "renamed to 20191.txt\n",
      "renamed to 20061.txt\n",
      "renamed to 20062.txt\n",
      "renamed to 20071.txt\n",
      "renamed to 20072.txt\n",
      "renamed to 20081.txt\n",
      "renamed to 20082.txt\n",
      "renamed to 20091.txt\n",
      "renamed to 20092.txt\n",
      "renamed to 20101.txt\n",
      "renamed to 20102.txt\n",
      "renamed to 20111.txt\n",
      "renamed to 20112.txt\n",
      "renamed to 20121.txt\n",
      "renamed to 20122.txt\n",
      "renamed to 20131.txt\n",
      "renamed to 20132.txt\n",
      "renamed to 20141.txt\n",
      "renamed to 20142.txt\n",
      "renamed to 20151.txt\n",
      "renamed to 20152.txt\n",
      "renamed to 20161.txt\n",
      "renamed to 20162.txt\n",
      "renamed to 20171.txt\n",
      "renamed to 20172.txt\n",
      "renamed to 20181.txt\n",
      "renamed to 20182.txt\n",
      "renamed to 20191.txt\n"
     ]
    }
   ],
   "source": [
    "print('\\nrename schools')\n",
    "normalize_file_names(target_schools_url, '-')\n",
    "\n",
    "print('\\nrename sb')\n",
    "normalize_file_names(target_sb_ulr, '_')"
   ]
  },
  {
   "cell_type": "markdown",
   "metadata": {
    "colab_type": "text",
    "id": "dH-HOz-Bj4x6"
   },
   "source": [
    "## Solución punto 1\n",
    "\n",
    "Con los archivos de las pruebas saber calcular y mostrar el ranking de los colegios por años. De mayor puntaje a menor puntaje. "
   ]
  },
  {
   "cell_type": "markdown",
   "metadata": {
    "colab_type": "text",
    "id": "ajh4gy1_ph3G"
   },
   "source": [
    "### Metadatos del punto 1"
   ]
  },
  {
   "cell_type": "code",
   "execution_count": null,
   "metadata": {
    "colab": {},
    "colab_type": "code",
    "id": "odXexBhAmCkl"
   },
   "outputs": [],
   "source": [
    "metadata_20061 = {\n",
    "    'file': '20061.txt',\n",
    "    'school': ['cole_cod_icfes', 'cole_nombre_sede'],\n",
    "    'score': ['punt_lenguaje',\n",
    "              'punt_matematicas',\n",
    "              'punt_c_sociales',\n",
    "              'punt_filosofia',\n",
    "              'punt_biologia',\n",
    "              'punt_quimica',\n",
    "              'punt_fisica',\n",
    "              'punt_idioma',\n",
    "              'punt_profundizacion',\n",
    "              'punt_interdisciplinar']\n",
    "}\n",
    "\n",
    "metadata_20062 = {\n",
    "    'file': '20062.txt',\n",
    "    'school': ['cole_cod_icfes', 'cole_nombre_sede'],\n",
    "    'score': ['punt_lenguaje',\n",
    "              'punt_matematicas',\n",
    "              'punt_c_sociales',\n",
    "              'punt_filosofia',\n",
    "              'punt_biologia',\n",
    "              'punt_quimica',\n",
    "              'punt_fisica',\n",
    "              'punt_idioma',\n",
    "              'punt_profundizacion',\n",
    "              'punt_interdisciplinar']\n",
    "}\n",
    "\n",
    "metadata_20071 = {\n",
    "    'file': '20071.txt',\n",
    "    'school': ['cole_cod_icfes', 'cole_nombre_sede'],\n",
    "    'score': ['punt_lenguaje',\n",
    "              'punt_matematicas',\n",
    "              'punt_c_sociales',\n",
    "              'punt_filosofia',\n",
    "              'punt_biologia',\n",
    "              'punt_quimica',\n",
    "              'punt_fisica',\n",
    "              'punt_ingles',\n",
    "              'punt_profundizacion',\n",
    "              'punt_interdisciplinar']\n",
    "}\n",
    "\n",
    "metadata_20072 = {\n",
    "    'file': '20072.txt',\n",
    "    'school': ['cole_cod_icfes', 'cole_nombre_sede'],\n",
    "    'score': ['punt_lenguaje',\n",
    "              'punt_matematicas',\n",
    "              'punt_c_sociales',\n",
    "              'punt_filosofia',\n",
    "              'punt_biologia',\n",
    "              'punt_quimica',\n",
    "              'punt_fisica',\n",
    "              'punt_ingles',\n",
    "              'punt_profundizacion',\n",
    "              'punt_interdisciplinar']\n",
    "}\n",
    "\n",
    "metadata_20081 = {\n",
    "    'file': '20081.txt',\n",
    "    'school': ['cole_cod_icfes', 'cole_nombre_sede'],\n",
    "    'score': ['punt_lenguaje',\n",
    "              'punt_matematicas',\n",
    "              'punt_c_sociales',\n",
    "              'punt_filosofia',\n",
    "              'punt_biologia',\n",
    "              'punt_quimica',\n",
    "              'punt_fisica',\n",
    "              'punt_ingles',\n",
    "              'punt_profundizacion',\n",
    "              'punt_interdisciplinar']\n",
    "}\n",
    "\n",
    "metadata_20082 = {\n",
    "    'file': '20082.txt',\n",
    "    'school': ['cole_cod_icfes', 'cole_nombre_sede'],\n",
    "    'score': ['punt_lenguaje',\n",
    "              'punt_matematicas',\n",
    "              'punt_c_sociales',\n",
    "              'punt_filosofia',\n",
    "              'punt_biologia',\n",
    "              'punt_quimica',\n",
    "              'punt_fisica',\n",
    "              'punt_ingles',\n",
    "              'punt_profundizacion',\n",
    "              'punt_interdisciplinar']\n",
    "}\n",
    "\n",
    "metadata_20091 = {\n",
    "    'file': '20091.txt',\n",
    "    'school': ['cole_cod_icfes', 'cole_nombre_sede'],\n",
    "    'score': ['punt_lenguaje',\n",
    "              'punt_matematicas',\n",
    "              'punt_c_sociales',\n",
    "              'punt_filosofia',\n",
    "              'punt_biologia',\n",
    "              'punt_quimica',\n",
    "              'punt_fisica',\n",
    "              'punt_ingles',\n",
    "              'punt_profundizacion',\n",
    "              'punt_interdisciplinar']\n",
    "}\n",
    "\n",
    "metadata_20092 = {\n",
    "    'file': '20092.txt',\n",
    "    'school': ['cole_cod_icfes', 'cole_nombre_sede'],\n",
    "    'score': ['punt_lenguaje',\n",
    "              'punt_matematicas',\n",
    "              'punt_c_sociales',\n",
    "              'punt_filosofia',\n",
    "              'punt_biologia',\n",
    "              'punt_quimica',\n",
    "              'punt_fisica',\n",
    "              'punt_ingles',\n",
    "              'punt_profundizacion',\n",
    "              'punt_interdisciplinar']\n",
    "}\n",
    "\n",
    "metadata_20101 = {\n",
    "    'file': '20101.txt',\n",
    "    'school': ['cole_cod_icfes', 'cole_nombre_sede'],\n",
    "    'score': ['punt_lenguaje',\n",
    "              'punt_matematicas',\n",
    "              'punt_c_sociales',\n",
    "              'punt_filosofia',\n",
    "              'punt_biologia',\n",
    "              'punt_quimica',\n",
    "              'punt_fisica',\n",
    "              'punt_ingles',\n",
    "              'punt_profundizacion',\n",
    "              'punt_interdisciplinar']\n",
    "}\n",
    "\n",
    "metadata_20102 = {\n",
    "    'file': '20102.txt',\n",
    "    'school': ['cole_cod_icfes', 'cole_nombre_sede'],\n",
    "    'score': ['punt_lenguaje',\n",
    "              'punt_matematicas',\n",
    "              'punt_c_sociales',\n",
    "              'punt_filosofia',\n",
    "              'punt_biologia',\n",
    "              'punt_quimica',\n",
    "              'punt_fisica',\n",
    "              'punt_ingles',\n",
    "              'punt_comp_flexible']\n",
    "}\n",
    "\n",
    "metadata_20111 = {\n",
    "    'file': '20111.txt',\n",
    "    'school': ['cole_cod_icfes', 'cole_nombre_sede'],\n",
    "    'score': ['punt_lenguaje',\n",
    "              'punt_matematicas',\n",
    "              'punt_c_sociales',\n",
    "              'punt_filosofia',\n",
    "              'punt_biologia',\n",
    "              'punt_quimica',\n",
    "              'punt_fisica',\n",
    "              'punt_ingles',\n",
    "              'punt_comp_flexible']\n",
    "}\n",
    "\n",
    "metadata_20112 = {\n",
    "    'file': '20112.txt',\n",
    "    'school': ['COLE_COD_DANE_SEDE', 'COLE_NOMBRE_ESTABLECIMIENTO'],\n",
    "    'score': ['PUNT_MATEMATICAS',\n",
    "              'PUNT_PROFUNDIZA_MATEMATICA',\n",
    "              'PUNT_CIENCIAS_SOCIALES',\n",
    "              'PUNT_PROFUNDIZA_CSOCIALES',\n",
    "              'PUNT_BIOLOGIA',\n",
    "              'PUNT_PROFUNDIZA_BIOLOGIA',\n",
    "              'PUNT_LENGUAJE',\n",
    "              'PUNT_PROFUNDIZA_LENGUAJE',\n",
    "              'PUNT_FILOSOFIA',\n",
    "              'PUNT_FISICA',\n",
    "              'PUNT_QUIMICA',\n",
    "              'PUNT_INTERDISC_VIOLENCIAYSOC',\n",
    "              'PUNT_INTERDISC_MEDIOAMBIENTE',\n",
    "              'PUNT_INGLES']\n",
    "}\n",
    "\n",
    "metadata_20121 = {\n",
    "    'file': '20121.txt',\n",
    "    'school': ['COLE_COD_DANE_SEDE', 'COLE_NOMBRE_ESTABLECIMIENTO'],\n",
    "    'score': ['PUNT_MATEMATICAS',\n",
    "              'PUNT_PROFUNDIZA_MATEMATICA',\n",
    "              'PUNT_CIENCIAS_SOCIALES',\n",
    "              'PUNT_PROFUNDIZA_CSOCIALES',\n",
    "              'PUNT_BIOLOGIA',\n",
    "              'PUNT_PROFUNDIZA_BIOLOGIA',\n",
    "              'PUNT_LENGUAJE',\n",
    "              'PUNT_PROFUNDIZA_LENGUAJE',\n",
    "              'PUNT_FILOSOFIA',\n",
    "              'PUNT_FISICA',\n",
    "              'PUNT_QUIMICA',\n",
    "              'PUNT_INTERDISC_VIOLENCIAYSOC',\n",
    "              'PUNT_INTERDISC_MEDIOAMBIENTE',\n",
    "              'PUNT_INGLES']\n",
    "}\n",
    "\n",
    "metadata_20122 = {\n",
    "    'file': '20122.txt',\n",
    "    'school': ['COLE_COD_DANE_SEDE', 'COLE_NOMBRE_ESTABLECIMIENTO'],\n",
    "    'score': ['PUNT_MATEMATICAS',\n",
    "              'PUNT_PROFUNDIZA_MATEMATICA',\n",
    "              'PUNT_CIENCIAS_SOCIALES',\n",
    "              'PUNT_PROFUNDIZA_CSOCIALES',\n",
    "              'PUNT_BIOLOGIA',\n",
    "              'PUNT_PROFUNDIZA_BIOLOGIA',\n",
    "              'PUNT_LENGUAJE',\n",
    "              'PUNT_PROFUNDIZA_LENGUAJE',\n",
    "              'PUNT_FILOSOFIA',\n",
    "              'PUNT_FISICA',\n",
    "              'PUNT_QUIMICA',\n",
    "              'PUNT_INTERDISC_VIOLENCIAYSOC',\n",
    "              'PUNT_INTERDISC_MEDIOAMBIENTE',\n",
    "              'PUNT_INGLES']\n",
    "}\n",
    "\n",
    "metadata_20131 = {\n",
    "    'file': '20131.txt',\n",
    "    'school': ['cole_codigo_icfes', 'cole_nombre_establecimiento'],\n",
    "    'score': ['punt_matematicas',\n",
    "              'punt_profundiza_matematica',\n",
    "              'punt_ciencias_sociales',\n",
    "              'punt_profundiza_csociales',\n",
    "              'punt_biologia',\n",
    "              'punt_profundiza_biologia',\n",
    "              'punt_lenguaje',\n",
    "              'punt_profundiza_lenguaje',\n",
    "              'punt_filosofia',\n",
    "              'punt_fisica',\n",
    "              'punt_quimica',\n",
    "              'punt_interdisc_violenciaysoc',\n",
    "              'punt_interdisc_medioambiente',\n",
    "              'punt_ingles']\n",
    "}\n",
    "\n",
    "metadata_20132 = {\n",
    "    'file': '20132.txt',\n",
    "    'school': ['cole_codigo_icfes', 'cole_nombre_establecimiento'],\n",
    "    'score': ['punt_matematicas',\n",
    "              'punt_profundiza_matematica',\n",
    "              'punt_ciencias_sociales',\n",
    "              'punt_profundiza_csociales',\n",
    "              'punt_biologia',\n",
    "              'punt_profundiza_biologia',\n",
    "              'punt_lenguaje',\n",
    "              'punt_profundiza_lenguaje',\n",
    "              'punt_filosofia',\n",
    "              'punt_fisica',\n",
    "              'punt_quimica',\n",
    "              'punt_interdisc_violenciaysoc',\n",
    "              'punt_interdisc_medioambiente',\n",
    "              'punt_ingles']\n",
    "}\n",
    "\n",
    "metadata_20141 = {\n",
    "    'file': '20141.txt',\n",
    "    'school': ['cole_codigo_icfes', 'cole_nombre_establecimiento'],\n",
    "    'score': ['punt_matematicas',\n",
    "              'punt_profundiza_matematica',\n",
    "              'punt_ciencias_sociales',\n",
    "              'punt_profundiza_csociales',\n",
    "              'punt_biologia',\n",
    "              'punt_profundiza_biologia',\n",
    "              'punt_lenguaje',\n",
    "              'punt_profundiza_lenguaje',\n",
    "              'punt_filosofia',\n",
    "              'punt_fisica',\n",
    "              'punt_quimica',\n",
    "              'punt_interdisc_violenciaysoc',\n",
    "              'punt_interdisc_medioambiente',\n",
    "              'punt_ingles']\n",
    "}\n",
    "\n",
    "metadata_20142 = {\n",
    "    'file': '20142.txt',\n",
    "    'school': ['cole_codigo_icfes', 'cole_nombre_establecimiento'],\n",
    "    'score': ['punt_lectura_critica',\n",
    "              'punt_matematicas',\n",
    "              'punt_c_naturales',\n",
    "              'punt_sociales_ciudadanas',\n",
    "              'punt_razona_cuantitativo',\n",
    "              'punt_comp_ciudadana',\n",
    "              'punt_ingles']\n",
    "}\n",
    "\n",
    "metadata_20151 = {\n",
    "    'file': '20151.txt',\n",
    "    'school': ['cole_codigo_icfes', 'cole_nombre_establecimiento'],\n",
    "    'score': ['punt_lectura_critica',\n",
    "              'punt_matematicas',\n",
    "              'punt_c_naturales',\n",
    "              'punt_sociales_ciudadanas',\n",
    "              'punt_razona_cuantitativo',\n",
    "              'punt_comp_ciudadana',\n",
    "              'punt_ingles']\n",
    "}\n",
    "\n",
    "metadata_20152 = {\n",
    "    'file': '20152.txt',\n",
    "    'school': ['cole_codigo_icfes', 'cole_nombre_establecimiento'],\n",
    "    'score': ['punt_lectura_critica',\n",
    "              'punt_matematicas',\n",
    "              'punt_c_naturales',\n",
    "              'punt_sociales_ciudadanas',\n",
    "              'punt_razona_cuantitativo',\n",
    "              'punt_comp_ciudadana',\n",
    "              'punt_ingles']\n",
    "}\n",
    "\n",
    "metadata_20161 = {\n",
    "    'file': '20161.txt',\n",
    "    'school': ['cole_codigo_icfes', 'cole_nombre_establecimiento'],\n",
    "    'score': ['punt_lectura_critica',\n",
    "              'punt_matematicas',\n",
    "              'punt_c_naturales',\n",
    "              'punt_sociales_ciudadanas',\n",
    "              'punt_ingles']\n",
    "}\n",
    "\n",
    "metadata_20162 = {\n",
    "    'file': '20162.txt',\n",
    "    'school': ['cole_codigo_icfes', 'cole_nombre_establecimiento'],\n",
    "    'score': ['punt_lectura_critica',\n",
    "              'punt_matematicas',\n",
    "              'punt_c_naturales',\n",
    "              'punt_sociales_ciudadanas',\n",
    "              'punt_ingles']\n",
    "}\n",
    "\n",
    "metadata_20171 = {\n",
    "    'file': '20171.txt',\n",
    "    'school': ['cole_codigo_icfes', 'cole_nombre_establecimiento'],\n",
    "    'score': ['punt_lectura_critica',\n",
    "              'punt_matematicas',\n",
    "              'punt_c_naturales',\n",
    "              'punt_sociales_ciudadanas',\n",
    "              'punt_ingles']\n",
    "}\n",
    "\n",
    "metadata_20172 = {\n",
    "    'file': '20172.txt',\n",
    "    'school': ['cole_codigo_icfes', 'cole_nombre_establecimiento'],\n",
    "    'score': ['punt_lectura_critica',\n",
    "              'punt_matematicas',\n",
    "              'punt_c_naturales',\n",
    "              'punt_sociales_ciudadanas',\n",
    "              'punt_ingles']\n",
    "}\n",
    "\n",
    "metadata_20181 = {\n",
    "    'file': '20181.txt',\n",
    "    'school': ['cole_codigo_icfes', 'cole_nombre_establecimiento'],\n",
    "    'score': ['punt_lectura_critica',\n",
    "              'punt_matematicas',\n",
    "              'punt_c_naturales',\n",
    "              'punt_sociales_ciudadanas',\n",
    "              'punt_ingles']\n",
    "}\n",
    "\n",
    "metadata_20182 = {\n",
    "    'file': '20182.txt',\n",
    "    'school': ['cole_codigo_icfes', 'cole_nombre_establecimiento'],\n",
    "    'score': ['punt_lectura_critica',\n",
    "              'punt_matematicas',\n",
    "              'punt_c_naturales',\n",
    "              'punt_sociales_ciudadanas',\n",
    "              'punt_ingles']\n",
    "}"
   ]
  },
  {
   "cell_type": "markdown",
   "metadata": {
    "colab_type": "text",
    "id": "_1KlgU2gSwz6"
   },
   "source": [
    "### Funciones del punto 1"
   ]
  },
  {
   "cell_type": "code",
   "execution_count": null,
   "metadata": {
    "colab": {},
    "colab_type": "code",
    "id": "xUJfD8Ais1Lj"
   },
   "outputs": [],
   "source": [
    "def read_dataframe(path_file):\n",
    "  return spark.read.load(path_file, format='csv', sep='¬', inferSchema='true', header='true')"
   ]
  },
  {
   "cell_type": "code",
   "execution_count": null,
   "metadata": {
    "colab": {},
    "colab_type": "code",
    "id": "Myd_hH3Ps-7d"
   },
   "outputs": [],
   "source": [
    "def get_dataframe_columns(dataframe, columns):\n",
    "  return dataframe.select(columns)"
   ]
  },
  {
   "cell_type": "code",
   "execution_count": null,
   "metadata": {
    "colab": {},
    "colab_type": "code",
    "id": "wbjPwdx5g8CI"
   },
   "outputs": [],
   "source": [
    "def cast_score_value(dataframe, column):\n",
    "  return dataframe.withColumn(column, regexp_replace(column, ',', '.').cast('double'))"
   ]
  },
  {
   "cell_type": "code",
   "execution_count": null,
   "metadata": {
    "colab": {},
    "colab_type": "code",
    "id": "LIoTtwj_jr-w"
   },
   "outputs": [],
   "source": [
    "def cast_score_columns(dataframe, columns):\n",
    "  for column in columns:\n",
    "    dataframe = cast_score_value(dataframe, column)\n",
    "    \n",
    "  return dataframe"
   ]
  },
  {
   "cell_type": "code",
   "execution_count": null,
   "metadata": {
    "colab": {},
    "colab_type": "code",
    "id": "EYBoepTnY_Gi"
   },
   "outputs": [],
   "source": [
    "def replace_null(dataframe):\n",
    "  return dataframe.na.fill(0)"
   ]
  },
  {
   "cell_type": "code",
   "execution_count": null,
   "metadata": {
    "colab": {},
    "colab_type": "code",
    "id": "usDvSzxxtKx4"
   },
   "outputs": [],
   "source": [
    "def get_mean_by_score(dataframe, school_columns, score_columns):\n",
    "  n = len(score_columns)\n",
    "  mean = (sum(col(x) for x in dataframe.columns[2:]) / n).alias(\"score\")\n",
    "  \n",
    "  return dataframe.select(school_columns[0], school_columns[1], mean)"
   ]
  },
  {
   "cell_type": "code",
   "execution_count": null,
   "metadata": {
    "colab": {},
    "colab_type": "code",
    "id": "aLh55ndetzTJ"
   },
   "outputs": [],
   "source": [
    "def get_schools_score(dataframe, school_columns):\n",
    "  return dataframe.groupBy(school_columns)\\\n",
    "  .agg(F.mean(\"score\").alias(\"school_score\"))"
   ]
  },
  {
   "cell_type": "code",
   "execution_count": null,
   "metadata": {
    "colab": {},
    "colab_type": "code",
    "id": "JEs91OyN72LB"
   },
   "outputs": [],
   "source": [
    "def count_studens_amount(dataframe, school_columns):\n",
    "  return dataframe.groupBy(school_columns)\\\n",
    "  .agg(F.count(school_columns[0]).alias(\"students_amount\"))"
   ]
  },
  {
   "cell_type": "code",
   "execution_count": null,
   "metadata": {
    "colab": {},
    "colab_type": "code",
    "id": "cAQVp_at8kGm"
   },
   "outputs": [],
   "source": [
    "def join_dataframes(df1, df2, school_columns):\n",
    "  new_columns = ['school_score', 'students_amount']\n",
    "  columns = school_columns + new_columns\n",
    "\n",
    "  return df1.join(df2, school_columns).select(columns)\\\n",
    "  .orderBy('school_score', ascending=False)"
   ]
  },
  {
   "cell_type": "code",
   "execution_count": null,
   "metadata": {
    "colab": {},
    "colab_type": "code",
    "id": "iuPfm8gcO1Dg"
   },
   "outputs": [],
   "source": [
    "def rename_columns(dataframe, school_columns):\n",
    "  return dataframe.withColumnRenamed(school_columns[0], 'school_code')\\\n",
    "  .withColumnRenamed(school_columns[1], 'school_name')"
   ]
  },
  {
   "cell_type": "code",
   "execution_count": null,
   "metadata": {
    "colab": {},
    "colab_type": "code",
    "id": "4rIgSU8yuuKe"
   },
   "outputs": [],
   "source": [
    "def get_schools_ranking(metadata):\n",
    "  filename = metadata['file']\n",
    "  school_columns = metadata['school'] \n",
    "  score_columns = metadata['score']\n",
    "\n",
    "  path_file = f'{target_sb_ulr}/{filename}'\n",
    "  target_file = f'{target_rank_url}/{filename[:-4]}.csv'\n",
    "  all_columns = school_columns + score_columns \n",
    "\n",
    "  dataframe = read_dataframe(path_file)\n",
    "  dataframe = get_dataframe_columns(dataframe, all_columns)\n",
    "  dataframe = cast_score_columns(dataframe, score_columns)\n",
    "  dataframe = replace_null(dataframe)\n",
    "  dataframe = get_mean_by_score(dataframe, school_columns, score_columns)\n",
    "\n",
    "  dataframe_count = count_studens_amount(dataframe, school_columns)\n",
    "  dataframe_rank = get_schools_score(dataframe, school_columns)\n",
    "\n",
    "  dataframe = join_dataframes(dataframe_count, dataframe_rank, school_columns)\n",
    "  dataframe = rename_columns(dataframe, school_columns)\n",
    "\n",
    "  dataframe.toPandas().to_csv(target_file)\n",
    "  dataframe.show(5)"
   ]
  },
  {
   "cell_type": "markdown",
   "metadata": {
    "colab_type": "text",
    "id": "M4z6nBD8bmtv"
   },
   "source": [
    "### año 2006"
   ]
  },
  {
   "cell_type": "code",
   "execution_count": null,
   "metadata": {
    "colab": {
     "base_uri": "https://localhost:8080/",
     "height": 391
    },
    "colab_type": "code",
    "id": "zZV7b1DJhVZh",
    "outputId": "319bc025-9abf-4a59-9bb3-c3472f363397"
   },
   "outputs": [
    {
     "name": "stdout",
     "output_type": "stream",
     "text": [
      "+-----------+--------------------+-----------------+---------------+\n",
      "|school_code|         school_name|     school_score|students_amount|\n",
      "+-----------+--------------------+-----------------+---------------+\n",
      "|      55988|COL LOS NOGALES  ...|56.81466666666667|             39|\n",
      "|      19471|COL SAN CARLOS   ...| 56.3340425531915|             94|\n",
      "|       3459|COLEGIO MARYMOUNT...| 56.3018556701031|             97|\n",
      "|      88641|COLEGIO LEONARDO ...|         56.29925|              4|\n",
      "|      19489|COL SANTA FRANCIS...|55.95428571428571|             49|\n",
      "+-----------+--------------------+-----------------+---------------+\n",
      "only showing top 5 rows\n",
      "\n",
      "+-----------+--------------------+------------------+---------------+\n",
      "|school_code|         school_name|      school_score|students_amount|\n",
      "+-----------+--------------------+------------------+---------------+\n",
      "|      66845|INST ALBERTO MERA...|59.054812500000004|             16|\n",
      "|      24059|LIC NAVARRA      ...|57.233972222222214|             36|\n",
      "|      23747|LIC  DE CERVANTES...| 56.63491666666666|             96|\n",
      "|      12047|        COL CALASANZ| 56.53172549019609|             51|\n",
      "|      99002|LIC CAMPO DAVID  ...|56.374526315789474|             19|\n",
      "+-----------+--------------------+------------------+---------------+\n",
      "only showing top 5 rows\n",
      "\n"
     ]
    }
   ],
   "source": [
    "get_schools_ranking(metadata_20061)\n",
    "get_schools_ranking(metadata_20062)"
   ]
  },
  {
   "cell_type": "markdown",
   "metadata": {
    "colab_type": "text",
    "id": "pk0e9bnGfMEV"
   },
   "source": [
    "### año 2007"
   ]
  },
  {
   "cell_type": "code",
   "execution_count": null,
   "metadata": {
    "colab": {
     "base_uri": "https://localhost:8080/",
     "height": 391
    },
    "colab_type": "code",
    "id": "fRTPUVmpdwjy",
    "outputId": "5fccaf3c-3b77-4c8d-a25e-a81e63bd9949"
   },
   "outputs": [
    {
     "name": "stdout",
     "output_type": "stream",
     "text": [
      "+-----------+--------------------+-----------------+---------------+\n",
      "|school_code|         school_name|     school_score|students_amount|\n",
      "+-----------+--------------------+-----------------+---------------+\n",
      "|      55988|COL LOS NOGALES  ...|54.14149999999999|             34|\n",
      "|      39172|COL. FUND.   BILI...|53.80783720930231|             43|\n",
      "|      19471|COL SAN CARLOS   ...|53.45329629629631|            108|\n",
      "|      24281|COL SAN JORGE DE ...|53.18605172413792|             58|\n",
      "|      25130|GIMN VERMONT     ...|         53.02044|             25|\n",
      "+-----------+--------------------+-----------------+---------------+\n",
      "only showing top 5 rows\n",
      "\n",
      "+-----------+--------------------+------------------+---------------+\n",
      "|school_code|         school_name|      school_score|students_amount|\n",
      "+-----------+--------------------+------------------+---------------+\n",
      "|      66845|INST ALBERTO MERA...| 57.80105263157895|             19|\n",
      "|      24059|LIC NAVARRA      ...| 57.62979545454545|             44|\n",
      "|      23747|LIC  DE CERVANTES...|  57.1207741935484|             93|\n",
      "|      25338|COL REFOUS       ...| 56.41735185185185|             54|\n",
      "|      65177|ASPAEN GIMNASIO C...|56.250391304347815|             23|\n",
      "+-----------+--------------------+------------------+---------------+\n",
      "only showing top 5 rows\n",
      "\n"
     ]
    }
   ],
   "source": [
    "get_schools_ranking(metadata_20071)\n",
    "get_schools_ranking(metadata_20072)"
   ]
  },
  {
   "cell_type": "markdown",
   "metadata": {
    "colab_type": "text",
    "id": "Vjzxt6CrfRw3"
   },
   "source": [
    "### año 2008"
   ]
  },
  {
   "cell_type": "code",
   "execution_count": null,
   "metadata": {
    "colab": {
     "base_uri": "https://localhost:8080/",
     "height": 391
    },
    "colab_type": "code",
    "id": "ucRdIz3RfkJ1",
    "outputId": "be9533b6-15fc-42ec-b769-ddd60a04eec5"
   },
   "outputs": [
    {
     "name": "stdout",
     "output_type": "stream",
     "text": [
      "+-----------+--------------------+------------------+---------------+\n",
      "|school_code|         school_name|      school_score|students_amount|\n",
      "+-----------+--------------------+------------------+---------------+\n",
      "|      25130|GIMN VERMONT     ...|59.611346153846156|             26|\n",
      "|      19471|COL SAN CARLOS   ...|59.192407407407416|            108|\n",
      "|      55988|COL LOS NOGALES  ...| 58.38497826086956|             46|\n",
      "|       3459|COLEGIO MARYMOUNT...|58.058053333333326|             75|\n",
      "|      55129|COL LA QUINTA DEL...|57.982689655172415|             29|\n",
      "+-----------+--------------------+------------------+---------------+\n",
      "only showing top 5 rows\n",
      "\n",
      "+-----------+--------------------+------------------+---------------+\n",
      "|school_code|         school_name|      school_score|students_amount|\n",
      "+-----------+--------------------+------------------+---------------+\n",
      "|      99002|LIC CAMPO DAVID  ...| 56.23846153846154|             13|\n",
      "|      12047|        COL CALASANZ| 55.31715584415585|             77|\n",
      "|      66845|INST ALBERTO MERA...|        55.3121875|             16|\n",
      "|      24059|LIC NAVARRA      ...| 55.29793617021278|             47|\n",
      "|     138685|GLENN DOMAN ESCUE...|55.032999999999994|              3|\n",
      "+-----------+--------------------+------------------+---------------+\n",
      "only showing top 5 rows\n",
      "\n"
     ]
    }
   ],
   "source": [
    "get_schools_ranking(metadata_20081)\n",
    "get_schools_ranking(metadata_20082)"
   ]
  },
  {
   "cell_type": "markdown",
   "metadata": {
    "colab_type": "text",
    "id": "UbS_IMbYfSEi"
   },
   "source": [
    "### año 2009"
   ]
  },
  {
   "cell_type": "code",
   "execution_count": null,
   "metadata": {
    "colab": {
     "base_uri": "https://localhost:8080/",
     "height": 391
    },
    "colab_type": "code",
    "id": "hdqizAPxflM2",
    "outputId": "3ca543de-edc7-4b15-a801-3b05e67fd202"
   },
   "outputs": [
    {
     "name": "stdout",
     "output_type": "stream",
     "text": [
      "+-----------+--------------------+------------------+---------------+\n",
      "|school_code|         school_name|      school_score|students_amount|\n",
      "+-----------+--------------------+------------------+---------------+\n",
      "|      55129|COL LA QUINTA DEL...|59.864235294117634|             34|\n",
      "|      25130|GIMN VERMONT     ...| 58.78629230769231|             65|\n",
      "|      24281|COL SAN JORGE DE ...| 58.41133802816903|             71|\n",
      "|      79160|COLEGIO BILINGUE ...|57.510666666666665|              9|\n",
      "|      19471|COL SAN CARLOS   ...| 57.22932038834952|            103|\n",
      "+-----------+--------------------+------------------+---------------+\n",
      "only showing top 5 rows\n",
      "\n",
      "+-----------+--------------------+------------------+---------------+\n",
      "|school_code|         school_name|      school_score|students_amount|\n",
      "+-----------+--------------------+------------------+---------------+\n",
      "|      66845|INST ALBERTO MERA...|56.334631578947366|             19|\n",
      "|      99002|LIC CAMPO DAVID  ...|          56.15475|             16|\n",
      "|      49189|COLEGIO SEMINARIO...| 55.90059999999998|             20|\n",
      "|      14233|COL  SAN PEDRO CL...|55.472283185840695|            113|\n",
      "|      25338|COL REFOUS       ...| 55.39340259740259|             77|\n",
      "+-----------+--------------------+------------------+---------------+\n",
      "only showing top 5 rows\n",
      "\n"
     ]
    }
   ],
   "source": [
    "get_schools_ranking(metadata_20091)\n",
    "get_schools_ranking(metadata_20092)"
   ]
  },
  {
   "cell_type": "markdown",
   "metadata": {
    "colab_type": "text",
    "id": "VV-JjS-5fSnJ"
   },
   "source": [
    "### año 2010"
   ]
  },
  {
   "cell_type": "code",
   "execution_count": null,
   "metadata": {
    "colab": {
     "base_uri": "https://localhost:8080/",
     "height": 391
    },
    "colab_type": "code",
    "id": "Pk99nv0DfmPZ",
    "outputId": "a5012280-5bdc-4cc7-bb7d-a57b9464a4e2"
   },
   "outputs": [
    {
     "name": "stdout",
     "output_type": "stream",
     "text": [
      "+-----------+--------------------+------------------+---------------+\n",
      "|school_code|         school_name|      school_score|students_amount|\n",
      "+-----------+--------------------+------------------+---------------+\n",
      "|      19489|COL SANTA FRANCIS...| 58.14137999999999|             50|\n",
      "|      54528|COL. INTERNACIONA...|57.671124999999996|             16|\n",
      "|      55129|COL LA QUINTA DEL...|57.662937500000005|             32|\n",
      "|      24281|COL SAN JORGE DE ...|57.511160493827155|             81|\n",
      "|      25130|GIMN VERMONT     ...| 57.45192424242425|             66|\n",
      "+-----------+--------------------+------------------+---------------+\n",
      "only showing top 5 rows\n",
      "\n",
      "+-----------+--------------------+-----------------+---------------+\n",
      "|school_code|         school_name|     school_score|students_amount|\n",
      "+-----------+--------------------+-----------------+---------------+\n",
      "|      66845|INST ALBERTO MERA...|74.30493827160494|             18|\n",
      "|       3665|FUND EDUC. INST E...|71.99999999999999|             21|\n",
      "|      99002|LIC CAMPO DAVID  ...|70.20466666666668|             15|\n",
      "|      19810|COL ANGLO AMERICA...|69.76998341625205|            134|\n",
      "|      59337|INST MUSICAL DIEG...|69.59555555555556|              6|\n",
      "+-----------+--------------------+-----------------+---------------+\n",
      "only showing top 5 rows\n",
      "\n"
     ]
    }
   ],
   "source": [
    "get_schools_ranking(metadata_20101)\n",
    "get_schools_ranking(metadata_20102)"
   ]
  },
  {
   "cell_type": "markdown",
   "metadata": {
    "colab_type": "text",
    "id": "CSBKljnJfSzB"
   },
   "source": [
    "### año 2011"
   ]
  },
  {
   "cell_type": "code",
   "execution_count": null,
   "metadata": {
    "colab": {
     "base_uri": "https://localhost:8080/",
     "height": 391
    },
    "colab_type": "code",
    "id": "glzX-rJ-fnJ8",
    "outputId": "a8afed71-45b1-4bed-cc27-57f5d19a9209"
   },
   "outputs": [
    {
     "name": "stdout",
     "output_type": "stream",
     "text": [
      "+-----------+--------------------+------------------+---------------+\n",
      "|school_code|         school_name|      school_score|students_amount|\n",
      "+-----------+--------------------+------------------+---------------+\n",
      "|     135806|COL DAVID EISENHO...| 63.61222222222222|              1|\n",
      "|      55129|COL LA QUINTA DEL...|63.186702508960565|             31|\n",
      "|      79160|COLEGIO BILINGUE ...| 62.91717171717171|             11|\n",
      "|      19489|COL SANTA FRANCIS...| 62.37588693957117|             57|\n",
      "|      55988|COL LOS NOGALES  ...| 61.58761904761906|             56|\n",
      "+-----------+--------------------+------------------+---------------+\n",
      "only showing top 5 rows\n",
      "\n",
      "+------------+--------------------+-----------------+---------------+\n",
      "| school_code|         school_name|     school_score|students_amount|\n",
      "+------------+--------------------+-----------------+---------------+\n",
      "|368001005861|GLENN DOMAN ESCUE...|41.42857142857142|              3|\n",
      "|315759002670|LICEO COOPERATIVO...|             40.0|              1|\n",
      "|311001086320|GIMNASIO COLOMBO ...| 39.4637964774951|             73|\n",
      "|311848000308|COL ANGLO AMERICA...|39.03830227743271|            138|\n",
      "|311001089221|INST ALBERTO MERA...|38.60924369747899|             17|\n",
      "+------------+--------------------+-----------------+---------------+\n",
      "only showing top 5 rows\n",
      "\n"
     ]
    }
   ],
   "source": [
    "get_schools_ranking(metadata_20111)\n",
    "get_schools_ranking(metadata_20112)"
   ]
  },
  {
   "cell_type": "markdown",
   "metadata": {
    "colab_type": "text",
    "id": "ZhjKFxMLfS9T"
   },
   "source": [
    "### año 2012"
   ]
  },
  {
   "cell_type": "code",
   "execution_count": null,
   "metadata": {
    "colab": {
     "base_uri": "https://localhost:8080/",
     "height": 391
    },
    "colab_type": "code",
    "id": "tcsZss4gfn6t",
    "outputId": "3997fb45-c102-4f8b-9b1d-abc7cff288f0"
   },
   "outputs": [
    {
     "name": "stdout",
     "output_type": "stream",
     "text": [
      "+------------+--------------------+------------------+---------------+\n",
      "| school_code|         school_name|      school_score|students_amount|\n",
      "+------------+--------------------+------------------+---------------+\n",
      "|368276000826|COL LA QUINTA DEL...|41.904761904761905|             21|\n",
      "|311769003342|     COL LOS NOGALES|41.657142857142865|             50|\n",
      "|311769000165|COL SAN JORGE DE ...| 41.31926406926407|             66|\n",
      "|376001013441|COLEGIO BILINGUE ...|40.767857142857146|             12|\n",
      "|376001002376|COLEGIO HISPANOAM...| 40.69078947368422|             76|\n",
      "+------------+--------------------+------------------+---------------+\n",
      "only showing top 5 rows\n",
      "\n",
      "+------------+--------------------+-----------------+---------------+\n",
      "| school_code|         school_name|     school_score|students_amount|\n",
      "+------------+--------------------+-----------------+---------------+\n",
      "|311001089221|INST ALBERTO MERA...|40.54926108374384|             29|\n",
      "|373001007662|COL  SAN BONIFACI...|40.41156462585034|             21|\n",
      "|305001006784|COL DE LA COMPANI...|39.70779220779221|             77|\n",
      "|405440000789|COLEGIO SEMINARIO...|39.15873015873016|             27|\n",
      "|354518001139|CAMBRIDGE SCHOOL ...|39.06746031746032|             18|\n",
      "+------------+--------------------+-----------------+---------------+\n",
      "only showing top 5 rows\n",
      "\n"
     ]
    }
   ],
   "source": [
    "get_schools_ranking(metadata_20121)\n",
    "get_schools_ranking(metadata_20122)"
   ]
  },
  {
   "cell_type": "markdown",
   "metadata": {
    "colab_type": "text",
    "id": "OiSOY6bsfTH8"
   },
   "source": [
    "### año 2013"
   ]
  },
  {
   "cell_type": "code",
   "execution_count": null,
   "metadata": {
    "colab": {
     "base_uri": "https://localhost:8080/",
     "height": 391
    },
    "colab_type": "code",
    "id": "cd4-RGrxfov6",
    "outputId": "349ec900-989c-49d0-945e-72478267c5ac"
   },
   "outputs": [
    {
     "name": "stdout",
     "output_type": "stream",
     "text": [
      "+-----------+--------------------+------------------+---------------+\n",
      "|school_code|         school_name|      school_score|students_amount|\n",
      "+-----------+--------------------+------------------+---------------+\n",
      "|      79160|COLEGIO BILINGUE ...| 42.95918367346939|             14|\n",
      "|      25130|GIMN VERMONT     ...|41.900455927051674|             94|\n",
      "|      88641|COLEGIO LEONARDO ...|41.714285714285715|              1|\n",
      "|     110858| COL NUEVO CAMBRIDGE| 41.69967532467532|             44|\n",
      "|      55129|COL LA QUINTA DEL...| 41.48285714285715|             25|\n",
      "+-----------+--------------------+------------------+---------------+\n",
      "only showing top 5 rows\n",
      "\n",
      "+-----------+--------------------+------------------+---------------+\n",
      "|school_code|         school_name|      school_score|students_amount|\n",
      "+-----------+--------------------+------------------+---------------+\n",
      "|      19448|COL NUEVA GRANADA...| 42.92857142857143|              1|\n",
      "|      66845|INST ALBERTO MERA...| 42.64705882352941|             34|\n",
      "|      49189|COLEGIO SEMINARIO...| 41.45153061224489|             28|\n",
      "|      41996|      COL MONTESSORI|41.114512471655324|             63|\n",
      "|      79806|COL NUEVO COLOMBO...| 41.05119047619046|             60|\n",
      "+-----------+--------------------+------------------+---------------+\n",
      "only showing top 5 rows\n",
      "\n"
     ]
    }
   ],
   "source": [
    "get_schools_ranking(metadata_20131)\n",
    "get_schools_ranking(metadata_20132)"
   ]
  },
  {
   "cell_type": "markdown",
   "metadata": {
    "colab_type": "text",
    "id": "9Zj_5kjKfTRr"
   },
   "source": [
    "### año 2014"
   ]
  },
  {
   "cell_type": "code",
   "execution_count": null,
   "metadata": {
    "colab": {
     "base_uri": "https://localhost:8080/",
     "height": 391
    },
    "colab_type": "code",
    "id": "pwggt-zSfpf8",
    "outputId": "4ef17fdb-c2fe-4bb8-f747-b5e324443b05"
   },
   "outputs": [
    {
     "name": "stdout",
     "output_type": "stream",
     "text": [
      "+-----------+--------------------+------------------+---------------+\n",
      "|school_code|         school_name|      school_score|students_amount|\n",
      "+-----------+--------------------+------------------+---------------+\n",
      "|      55988|     COL LOS NOGALES|42.479949874686724|             57|\n",
      "|      55129|COL LA QUINTA DEL...| 41.91190476190476|             30|\n",
      "|      62497|COL SAN MATEO APO...|41.158079625292736|             61|\n",
      "|     177469|COL  MONTESSORI B...| 40.74489795918366|             35|\n",
      "|      19471|COL SAN CARLOS   ...| 40.71350931677017|             92|\n",
      "+-----------+--------------------+------------------+---------------+\n",
      "only showing top 5 rows\n",
      "\n",
      "+-----------+--------------------+-----------------+---------------+\n",
      "|school_code|         school_name|     school_score|students_amount|\n",
      "+-----------+--------------------+-----------------+---------------+\n",
      "|      98640|COLOMBO BRITANICO...|77.36904761904763|             72|\n",
      "|     125211|CAMBRIDGE SCHOOL ...|76.93877551020408|             14|\n",
      "|      24059|         LIC NAVARRA| 76.2984126984127|             45|\n",
      "|      66845| INST ALBERTO MERANI|75.77232142857143|             32|\n",
      "|      79806|COL NUEVO COLOMBO...|75.40879120879121|             65|\n",
      "+-----------+--------------------+-----------------+---------------+\n",
      "only showing top 5 rows\n",
      "\n"
     ]
    }
   ],
   "source": [
    "get_schools_ranking(metadata_20141)\n",
    "get_schools_ranking(metadata_20142)"
   ]
  },
  {
   "cell_type": "markdown",
   "metadata": {
    "colab_type": "text",
    "id": "Xm7DugAZfTbQ"
   },
   "source": [
    "### año 2015"
   ]
  },
  {
   "cell_type": "code",
   "execution_count": null,
   "metadata": {
    "colab": {
     "base_uri": "https://localhost:8080/",
     "height": 391
    },
    "colab_type": "code",
    "id": "_ehLVhwvfqi6",
    "outputId": "271da2a7-37d8-45b1-e45e-1cb3e1308b05"
   },
   "outputs": [
    {
     "name": "stdout",
     "output_type": "stream",
     "text": [
      "+-----------+--------------------+-----------------+---------------+\n",
      "|school_code|         school_name|     school_score|students_amount|\n",
      "+-----------+--------------------+-----------------+---------------+\n",
      "|      79160|COLEGIO BILINGUE ...|82.28151260504202|             34|\n",
      "|      55988|     COL LOS NOGALES| 81.4930875576037|             62|\n",
      "|      55129|COL LA QUINTA DEL...|81.26530612244899|             14|\n",
      "|     130732|       COL LA COLINA|80.12605042016807|             17|\n",
      "|      19471|      COL SAN CARLOS|79.95238095238099|            105|\n",
      "+-----------+--------------------+-----------------+---------------+\n",
      "only showing top 5 rows\n",
      "\n",
      "+-----------+--------------------+-----------------+---------------+\n",
      "|school_code|         school_name|     school_score|students_amount|\n",
      "+-----------+--------------------+-----------------+---------------+\n",
      "|      99002|     LIC CAMPO DAVID|82.75714285714285|             20|\n",
      "|      79806|COL NUEVO COLOMBO...|80.41925465838509|             46|\n",
      "|      24059|         LIC NAVARRA|79.57142857142857|             45|\n",
      "|      66845| INST ALBERTO MERANI|79.29870129870129|             33|\n",
      "|     125211|CAMBRIDGE SCHOOL ...|79.04395604395606|             13|\n",
      "+-----------+--------------------+-----------------+---------------+\n",
      "only showing top 5 rows\n",
      "\n"
     ]
    }
   ],
   "source": [
    "get_schools_ranking(metadata_20151)\n",
    "get_schools_ranking(metadata_20152)"
   ]
  },
  {
   "cell_type": "markdown",
   "metadata": {
    "colab_type": "text",
    "id": "sfPtRyx6fTkP"
   },
   "source": [
    "### año 2016"
   ]
  },
  {
   "cell_type": "code",
   "execution_count": null,
   "metadata": {
    "colab": {
     "base_uri": "https://localhost:8080/",
     "height": 391
    },
    "colab_type": "code",
    "id": "yvqLlKswfrdl",
    "outputId": "27ae722f-7976-457d-a506-0273d8676874"
   },
   "outputs": [
    {
     "name": "stdout",
     "output_type": "stream",
     "text": [
      "+-----------+--------------------+-----------------+---------------+\n",
      "|school_code|         school_name|     school_score|students_amount|\n",
      "+-----------+--------------------+-----------------+---------------+\n",
      "|      79160|COLEGIO BILINGUE ...|             85.4|             30|\n",
      "|      88641|COLEGIO LEONARDO ...|82.08888888888889|              9|\n",
      "|      55988|     COL LOS NOGALES|81.42142857142858|             56|\n",
      "|     110858| COL NUEVO CAMBRIDGE|81.04406779661016|             59|\n",
      "|      24281|COL SAN JORGE DE ...|81.00243902439026|             82|\n",
      "+-----------+--------------------+-----------------+---------------+\n",
      "only showing top 5 rows\n",
      "\n",
      "+-----------+--------------------+-----------------+---------------+\n",
      "|school_code|         school_name|     school_score|students_amount|\n",
      "+-----------+--------------------+-----------------+---------------+\n",
      "|      99002|     LIC CAMPO DAVID|77.63333333333334|             30|\n",
      "|      79806|COL NUEVO COLOMBO...|77.13684210526316|             57|\n",
      "|      63438|COL NUEVA INGLATERRA|76.53703703703704|             54|\n",
      "|       3194|NUEVO COLEGIO DEL...|76.42564102564103|             39|\n",
      "|      98640|COLOMBO BRITANICO...|76.20526315789475|             76|\n",
      "+-----------+--------------------+-----------------+---------------+\n",
      "only showing top 5 rows\n",
      "\n"
     ]
    }
   ],
   "source": [
    "get_schools_ranking(metadata_20161)\n",
    "get_schools_ranking(metadata_20162)"
   ]
  },
  {
   "cell_type": "markdown",
   "metadata": {
    "colab_type": "text",
    "id": "HiwwebqHfTtK"
   },
   "source": [
    "### año 2017"
   ]
  },
  {
   "cell_type": "code",
   "execution_count": null,
   "metadata": {
    "colab": {
     "base_uri": "https://localhost:8080/",
     "height": 391
    },
    "colab_type": "code",
    "id": "CmZ6MQFefsXy",
    "outputId": "a58ba604-e28e-4990-c9f2-ba06bcbb39fe"
   },
   "outputs": [
    {
     "name": "stdout",
     "output_type": "stream",
     "text": [
      "+-----------+--------------------+-----------------+---------------+\n",
      "|school_code|         school_name|     school_score|students_amount|\n",
      "+-----------+--------------------+-----------------+---------------+\n",
      "|     110858| COL NUEVO CAMBRIDGE|79.55263157894737|             38|\n",
      "|      55129|COL LA QUINTA DEL...|            78.92|             15|\n",
      "|      79160|COLEGIO BILINGUE ...|78.67199999999998|             25|\n",
      "|     130732|       COL LA COLINA| 76.8307692307692|             26|\n",
      "|     143396|COLEGIO PHILADELP...|           76.625|             32|\n",
      "+-----------+--------------------+-----------------+---------------+\n",
      "only showing top 5 rows\n",
      "\n",
      "+-----------+--------------------+-----------------+---------------+\n",
      "|school_code|         school_name|     school_score|students_amount|\n",
      "+-----------+--------------------+-----------------+---------------+\n",
      "|      99002|     LIC CAMPO DAVID|76.74117647058823|             17|\n",
      "|      98640|GIMNASIO COLOMBO ...|76.44528301886793|             53|\n",
      "|     128728|GIMNASIO EL HONTANAR|             76.2|             13|\n",
      "|      19810| COL ANGLO AMERICANO|76.01428571428572|            154|\n",
      "|      79806|COL NUEVO COLOMBO...|75.96393442622951|             61|\n",
      "+-----------+--------------------+-----------------+---------------+\n",
      "only showing top 5 rows\n",
      "\n"
     ]
    }
   ],
   "source": [
    "get_schools_ranking(metadata_20171)\n",
    "get_schools_ranking(metadata_20172)"
   ]
  },
  {
   "cell_type": "markdown",
   "metadata": {
    "colab_type": "text",
    "id": "OxrGN5_vfULl"
   },
   "source": [
    "### año 2018"
   ]
  },
  {
   "cell_type": "code",
   "execution_count": null,
   "metadata": {
    "colab": {
     "base_uri": "https://localhost:8080/",
     "height": 391
    },
    "colab_type": "code",
    "id": "PNPd4uabfgsH",
    "outputId": "1d90b6cc-245b-4880-9083-4b50017f6ef3"
   },
   "outputs": [
    {
     "name": "stdout",
     "output_type": "stream",
     "text": [
      "+-----------+--------------------+-----------------+---------------+\n",
      "|school_code|         school_name|     school_score|students_amount|\n",
      "+-----------+--------------------+-----------------+---------------+\n",
      "|      55129|COL LA QUINTA DEL...|80.65263157894738|             19|\n",
      "|     110858| COL NUEVO CAMBRIDGE|80.62553191489361|             47|\n",
      "|      79160|COLEGIO BILINGUE ...|78.50416666666668|             48|\n",
      "|      88906|     COLEGIO HARVARD|             78.2|              1|\n",
      "|      24281|COL SAN JORGE DE ...|77.85974025974026|             77|\n",
      "+-----------+--------------------+-----------------+---------------+\n",
      "only showing top 5 rows\n",
      "\n",
      "+-----------+--------------------+-----------------+---------------+\n",
      "|school_code|         school_name|     school_score|students_amount|\n",
      "+-----------+--------------------+-----------------+---------------+\n",
      "|     150615|COL HERALDOS DEL ...|             79.8|              1|\n",
      "|      99002|LIC CAMPO DAVID  ...|78.19999999999999|             25|\n",
      "|     125211|CAMBRIDGE SCHOOL ...|77.36000000000001|             20|\n",
      "|      79806|COL NUEVO COLOMBO...|            76.75|             64|\n",
      "|      66845|INST ALBERTO MERA...|             76.7|             30|\n",
      "+-----------+--------------------+-----------------+---------------+\n",
      "only showing top 5 rows\n",
      "\n"
     ]
    }
   ],
   "source": [
    "get_schools_ranking(metadata_20181)\n",
    "get_schools_ranking(metadata_20182)"
   ]
  },
  {
   "cell_type": "markdown",
   "metadata": {
    "colab_type": "text",
    "id": "ztrqB6rG50Cc"
   },
   "source": [
    "## Solución punto 2\n",
    "\n",
    "Mostrar gráficamente ranking de los primeros 10 colegios e incluír información de la cantidad de estudiantes"
   ]
  },
  {
   "cell_type": "markdown",
   "metadata": {
    "colab_type": "text",
    "id": "GFvN0cXGS1fQ"
   },
   "source": [
    "### Metadatos del punto 2"
   ]
  },
  {
   "cell_type": "code",
   "execution_count": null,
   "metadata": {
    "colab": {},
    "colab_type": "code",
    "id": "LiOaTjMMgHVI"
   },
   "outputs": [],
   "source": [
    "point2_columns = ['school_name', 'school_score', 'students_amount']"
   ]
  },
  {
   "cell_type": "markdown",
   "metadata": {
    "colab_type": "text",
    "id": "GMHJOgkVUEn_"
   },
   "source": [
    "### Funciones punto 2"
   ]
  },
  {
   "cell_type": "code",
   "execution_count": null,
   "metadata": {
    "colab": {},
    "colab_type": "code",
    "id": "eZfULKlGmINa"
   },
   "outputs": [],
   "source": [
    "def read_dataframe(path_file):\n",
    "  return spark.read.load(path_file, format='csv', sep=',', inferSchema='true', header='true')"
   ]
  },
  {
   "cell_type": "code",
   "execution_count": null,
   "metadata": {
    "colab": {},
    "colab_type": "code",
    "id": "bgR_hJBhmNwa"
   },
   "outputs": [],
   "source": [
    "def get_dataframe_rows(path_file, columns):\n",
    "  dataframe = read_dataframe(path_file)\n",
    "  dataframe = dataframe.select(columns)\n",
    "  \n",
    "  return dataframe.limit(10).toPandas()"
   ]
  },
  {
   "cell_type": "code",
   "execution_count": null,
   "metadata": {
    "colab": {},
    "colab_type": "code",
    "id": "tMBdyUdH9JRo"
   },
   "outputs": [],
   "source": [
    "def normalize_school_names(school_names):\n",
    "  return [name.strip().lower() for name in school_names]"
   ]
  },
  {
   "cell_type": "code",
   "execution_count": null,
   "metadata": {
    "colab": {},
    "colab_type": "code",
    "id": "ELzlrmtw_UgM"
   },
   "outputs": [],
   "source": [
    "def show_school_names(names):\n",
    "  for index, name in enumerate(names):\n",
    "    print(f'{index},  {name}')"
   ]
  },
  {
   "cell_type": "code",
   "execution_count": null,
   "metadata": {
    "colab": {},
    "colab_type": "code",
    "id": "-yTEDATwUgFN"
   },
   "outputs": [],
   "source": [
    "def graph_results(flename, dataframe):\n",
    "  names = normalize_school_names(dataframe['school_name'].tolist())\n",
    " \n",
    "  show_school_names(names)\n",
    "  dataframe.plot(kind='bar', rot=0)"
   ]
  },
  {
   "cell_type": "code",
   "execution_count": null,
   "metadata": {
    "colab": {},
    "colab_type": "code",
    "id": "e41cuuXifC-b"
   },
   "outputs": [],
   "source": [
    "def prepare_show_graph(filename):\n",
    "  path_file = f'{target_rank_url}/{filename}'\n",
    "\n",
    "  dataframe = get_dataframe_rows(path_file, point2_columns)\n",
    "  graph_results(filename, dataframe)"
   ]
  },
  {
   "cell_type": "markdown",
   "metadata": {
    "colab_type": "text",
    "id": "Hn9jC4DlcjzV"
   },
   "source": [
    "### 2006"
   ]
  },
  {
   "cell_type": "code",
   "execution_count": null,
   "metadata": {
    "colab": {
     "base_uri": "https://localhost:8080/",
     "height": 439
    },
    "colab_type": "code",
    "id": "glmAwfKi0e6L",
    "outputId": "1c0bf192-3f86-4027-a3ee-d8472c6d2a4e"
   },
   "outputs": [
    {
     "name": "stdout",
     "output_type": "stream",
     "text": [
      "0,  col los nogales\n",
      "1,  col san carlos\n",
      "2,  colegio marymount - sede principal\n",
      "3,  colegio leonardo da vinci\n",
      "4,  col santa francisca romana\n",
      "5,  gimn vermont\n",
      "6,  col la quinta del puente\n",
      "7,  lic frances louis pasteur\n",
      "8,  col andino\n",
      "9,  col san mateo apostol\n"
     ]
    },
    {
     "data": {
      "image/png": "[encoded data removed]",
      "text/plain": [
       "<Figure size 432x288 with 1 Axes>"
      ]
     },
     "metadata": {
      "tags": []
     },
     "output_type": "display_data"
    }
   ],
   "source": [
    "prepare_show_graph('20061.csv')"
   ]
  },
  {
   "cell_type": "code",
   "execution_count": null,
   "metadata": {
    "colab": {
     "base_uri": "https://localhost:8080/",
     "height": 439
    },
    "colab_type": "code",
    "id": "2x1pHlem_2nz",
    "outputId": "6271dc0e-8e72-455a-9170-219b82b7fcd5"
   },
   "outputs": [
    {
     "name": "stdout",
     "output_type": "stream",
     "text": [
      "0,  inst alberto merani\n",
      "1,  lic navarra\n",
      "2,  lic  de cervantes padres agustinos\n",
      "3,  col calasanz\n",
      "4,  lic campo david\n",
      "5,  col  san bonifacio de las lanzas\n",
      "6,  aspaen gimnasio la fragua\n",
      "7,  cent. de enseñanza precoz  nuevo mundo\n",
      "8,  gimn de los cerros\n",
      "9,  col refous\n"
     ]
    },
    {
     "data": {
      "image/png": "[encoded data removed]",
      "text/plain": [
       "<Figure size 432x288 with 1 Axes>"
      ]
     },
     "metadata": {
      "tags": []
     },
     "output_type": "display_data"
    }
   ],
   "source": [
    "prepare_show_graph('20062.csv')"
   ]
  },
  {
   "cell_type": "markdown",
   "metadata": {
    "colab_type": "text",
    "id": "SsrzGd8iessB"
   },
   "source": [
    "### 2007"
   ]
  },
  {
   "cell_type": "code",
   "execution_count": null,
   "metadata": {
    "colab": {
     "base_uri": "https://localhost:8080/",
     "height": 439
    },
    "colab_type": "code",
    "id": "0SlNxe7vAbD5",
    "outputId": "ee7151c2-7dc7-4198-b4d4-e22dea9ddfae"
   },
   "outputs": [
    {
     "name": "stdout",
     "output_type": "stream",
     "text": [
      "0,  col los nogales\n",
      "1,  col. fund.   biling . de valledupar\n",
      "2,  col san carlos\n",
      "3,  col san jorge de inglaterra\n",
      "4,  gimn vermont\n",
      "5,  col santa francisca romana\n",
      "6,  gimn la montaña\n",
      "7,  lic frances louis pasteur\n",
      "8,  col la quinta del puente\n",
      "9,  col lic frances de pereira\n"
     ]
    },
    {
     "data": {
      "image/png": "[encoded data removed]",
      "text/plain": [
       "<Figure size 432x288 with 1 Axes>"
      ]
     },
     "metadata": {
      "tags": []
     },
     "output_type": "display_data"
    }
   ],
   "source": [
    "prepare_show_graph('20071.csv')"
   ]
  },
  {
   "cell_type": "code",
   "execution_count": null,
   "metadata": {
    "colab": {
     "base_uri": "https://localhost:8080/",
     "height": 439
    },
    "colab_type": "code",
    "id": "TSW2YmqeAa1Z",
    "outputId": "c596d17b-c0fd-4399-b4f8-cc8cea2ad1f2"
   },
   "outputs": [
    {
     "name": "stdout",
     "output_type": "stream",
     "text": [
      "0,  inst alberto merani\n",
      "1,  lic navarra\n",
      "2,  lic  de cervantes padres agustinos\n",
      "3,  col refous\n",
      "4,  aspaen gimnasio cantillana - sede principal\n",
      "5,  cent. de enseñanza precoz  nuevo mundo\n",
      "6,  colegio seminario corazonista\n",
      "7,  col corazonista hh del sagrado corazon\n",
      "8,  lic campo david\n",
      "9,  col  san bonifacio de las lanzas\n"
     ]
    },
    {
     "data": {
      "image/png": "[encoded data removed]",
      "text/plain": [
       "<Figure size 432x288 with 1 Axes>"
      ]
     },
     "metadata": {
      "tags": []
     },
     "output_type": "display_data"
    }
   ],
   "source": [
    "prepare_show_graph('20072.csv')"
   ]
  },
  {
   "cell_type": "markdown",
   "metadata": {
    "colab_type": "text",
    "id": "GpZiwxfmewF_"
   },
   "source": [
    "### 2008"
   ]
  },
  {
   "cell_type": "code",
   "execution_count": null,
   "metadata": {
    "colab": {
     "base_uri": "https://localhost:8080/",
     "height": 439
    },
    "colab_type": "code",
    "id": "D9b-bE1gAfyq",
    "outputId": "5d79a735-6407-4df9-bff1-5f27cd421dde"
   },
   "outputs": [
    {
     "name": "stdout",
     "output_type": "stream",
     "text": [
      "0,  gimn vermont\n",
      "1,  col san carlos\n",
      "2,  col los nogales\n",
      "3,  colegio marymount - sede principal\n",
      "4,  col la quinta del puente\n",
      "5,  col san jorge de inglaterra\n",
      "6,  col santa francisca romana\n",
      "7,  col italiano leonardo da vinci\n",
      "8,  gimn de los cerros\n",
      "9,  gimn la montaña\n"
     ]
    },
    {
     "data": {
      "image/png": "[encoded data removed]",
      "text/plain": [
       "<Figure size 432x288 with 1 Axes>"
      ]
     },
     "metadata": {
      "tags": []
     },
     "output_type": "display_data"
    }
   ],
   "source": [
    "prepare_show_graph('20081.csv')"
   ]
  },
  {
   "cell_type": "code",
   "execution_count": null,
   "metadata": {
    "colab": {
     "base_uri": "https://localhost:8080/",
     "height": 439
    },
    "colab_type": "code",
    "id": "pYjTlN6tAiKX",
    "outputId": "55485557-9b64-4bb4-8ee7-a39530a3fd90"
   },
   "outputs": [
    {
     "name": "stdout",
     "output_type": "stream",
     "text": [
      "0,  lic campo david\n",
      "1,  col calasanz\n",
      "2,  inst alberto merani\n",
      "3,  lic navarra\n",
      "4,  glenn doman escuela precoz\n",
      "5,  lic  de cervantes padres agustinos\n",
      "6,  aspaen gimnasio cantillana - sede principal\n",
      "7,  col reuven feuerstein\n",
      "8,  lic juan ramon jimenez\n",
      "9,  colegio seminario corazonista\n"
     ]
    },
    {
     "data": {
      "image/png": "[encoded data removed]",
      "text/plain": [
       "<Figure size 432x288 with 1 Axes>"
      ]
     },
     "metadata": {
      "tags": []
     },
     "output_type": "display_data"
    }
   ],
   "source": [
    "prepare_show_graph('20082.csv')"
   ]
  },
  {
   "cell_type": "markdown",
   "metadata": {
    "colab_type": "text",
    "id": "fQoqNtgGew_I"
   },
   "source": [
    "### 2009"
   ]
  },
  {
   "cell_type": "code",
   "execution_count": null,
   "metadata": {
    "colab": {
     "base_uri": "https://localhost:8080/",
     "height": 439
    },
    "colab_type": "code",
    "id": "RY2QRikeAkwy",
    "outputId": "b0e26017-f9cd-4f2a-f666-42234ca4f6c4"
   },
   "outputs": [
    {
     "name": "stdout",
     "output_type": "stream",
     "text": [
      "0,  col la quinta del puente\n",
      "1,  gimn vermont\n",
      "2,  col san jorge de inglaterra\n",
      "3,  colegio bilingue diana oese\n",
      "4,  col san carlos\n",
      "5,  gimn la montaña\n",
      "6,  col santa francisca romana\n",
      "7,  col los nogales\n",
      "8,  lic frances louis pasteur\n",
      "9,  col san mateo apostol\n"
     ]
    },
    {
     "data": {
      "image/png": "[encoded data removed]",
      "text/plain": [
       "<Figure size 432x288 with 1 Axes>"
      ]
     },
     "metadata": {
      "tags": []
     },
     "output_type": "display_data"
    }
   ],
   "source": [
    "prepare_show_graph('20091.csv')"
   ]
  },
  {
   "cell_type": "code",
   "execution_count": null,
   "metadata": {
    "colab": {
     "base_uri": "https://localhost:8080/",
     "height": 439
    },
    "colab_type": "code",
    "id": "2YDcSrvHAm_B",
    "outputId": "c6ea63e7-a5d1-46f2-efcf-18d07d899aaa"
   },
   "outputs": [
    {
     "name": "stdout",
     "output_type": "stream",
     "text": [
      "0,  inst alberto merani\n",
      "1,  lic campo david\n",
      "2,  colegio seminario corazonista\n",
      "3,  col  san pedro claver\n",
      "4,  col refous\n",
      "5,  aspaen gimnasio cantillana - sede principal\n",
      "6,  col el rosario\n",
      "7,  col nuevo colombo americano\n",
      "8,  lic  de cervantes padres agustinos\n",
      "9,  fund educ. inst experimental jose celestino mutis\n"
     ]
    },
    {
     "data": {
      "image/png": "[encoded data removed]",
      "text/plain": [
       "<Figure size 432x288 with 1 Axes>"
      ]
     },
     "metadata": {
      "tags": []
     },
     "output_type": "display_data"
    }
   ],
   "source": [
    "prepare_show_graph('20092.csv')"
   ]
  },
  {
   "cell_type": "markdown",
   "metadata": {
    "colab_type": "text",
    "id": "4x1iNL16exwR"
   },
   "source": [
    "### 2010"
   ]
  },
  {
   "cell_type": "code",
   "execution_count": null,
   "metadata": {
    "colab": {
     "base_uri": "https://localhost:8080/",
     "height": 439
    },
    "colab_type": "code",
    "id": "LvbokODaArRu",
    "outputId": "d5ab3f9f-8b48-410a-f166-4bd72db1aa19"
   },
   "outputs": [
    {
     "name": "stdout",
     "output_type": "stream",
     "text": [
      "0,  col santa francisca romana\n",
      "1,  col. internacional de educación integral - ciedi ltda - sede principal\n",
      "2,  col la quinta del puente\n",
      "3,  col san jorge de inglaterra\n",
      "4,  gimn vermont\n",
      "5,  col la colina\n",
      "6,  col calatrava - sede principal\n",
      "7,  col san carlos\n",
      "8,  col campoalegre ltda - sede principal\n",
      "9,  colegio real (royal school) - sede principal\n"
     ]
    },
    {
     "data": {
      "image/png": "[encoded data removed]",
      "text/plain": [
       "<Figure size 432x288 with 1 Axes>"
      ]
     },
     "metadata": {
      "tags": []
     },
     "output_type": "display_data"
    }
   ],
   "source": [
    "prepare_show_graph('20101.csv')"
   ]
  },
  {
   "cell_type": "code",
   "execution_count": null,
   "metadata": {
    "colab": {
     "base_uri": "https://localhost:8080/",
     "height": 439
    },
    "colab_type": "code",
    "id": "_YUVMI3uAr1q",
    "outputId": "67de52fd-31f2-4f2a-e5ab-aca2bbc5878a"
   },
   "outputs": [
    {
     "name": "stdout",
     "output_type": "stream",
     "text": [
      "0,  inst alberto merani\n",
      "1,  fund educ. inst experimental jose celestino mutis\n",
      "2,  lic campo david\n",
      "3,  col anglo americano\n",
      "4,  inst musical diego echavarria\n",
      "5,  aspaen gimnasio cantillana - sede principal\n",
      "6,  col  san bonifacio de las lanzas\n",
      "7,  col  san pedro claver\n",
      "8,  gimnasio colombo britanico - sede principal\n",
      "9,  col nuevo colombo americano\n"
     ]
    },
    {
     "data": {
      "image/png": "[encoded data removed]",
      "text/plain": [
       "<Figure size 432x288 with 1 Axes>"
      ]
     },
     "metadata": {
      "tags": []
     },
     "output_type": "display_data"
    }
   ],
   "source": [
    "prepare_show_graph('20102.csv')"
   ]
  },
  {
   "cell_type": "markdown",
   "metadata": {
    "colab_type": "text",
    "id": "XYV4neTTex4w"
   },
   "source": [
    "### 2011"
   ]
  },
  {
   "cell_type": "code",
   "execution_count": null,
   "metadata": {
    "colab": {
     "base_uri": "https://localhost:8080/",
     "height": 439
    },
    "colab_type": "code",
    "id": "DgGBXIHOAxoq",
    "outputId": "b242e001-27cf-4786-fe39-a4d3407add45"
   },
   "outputs": [
    {
     "name": "stdout",
     "output_type": "stream",
     "text": [
      "0,  col david eisenhower\n",
      "1,  col la quinta del puente\n",
      "2,  colegio bilingue diana oese\n",
      "3,  col santa francisca romana\n",
      "4,  col los nogales\n",
      "5,  col. internacional de educación integral - ciedi ltda - sede principal\n",
      "6,  gimn. cartagena de indias\n",
      "7,  col san jorge de inglaterra\n",
      "8,  gimn vermont\n",
      "9,  col abraham lincoln\n"
     ]
    },
    {
     "data": {
      "image/png": "[encoded data removed]",
      "text/plain": [
       "<Figure size 432x288 with 1 Axes>"
      ]
     },
     "metadata": {
      "tags": []
     },
     "output_type": "display_data"
    }
   ],
   "source": [
    "prepare_show_graph('20111.csv')"
   ]
  },
  {
   "cell_type": "code",
   "execution_count": null,
   "metadata": {
    "colab": {
     "base_uri": "https://localhost:8080/",
     "height": 439
    },
    "colab_type": "code",
    "id": "fwHq8el3AxpG",
    "outputId": "4a18794b-2052-4001-c3fb-ba51e0e1c413"
   },
   "outputs": [
    {
     "name": "stdout",
     "output_type": "stream",
     "text": [
      "0,  glenn doman escuela precoz\n",
      "1,  liceo cooperativo campestre\n",
      "2,  gimnasio colombo britanico - bilingüe internacional\n",
      "3,  col anglo americano\n",
      "4,  inst alberto merani\n",
      "5,  col de la compania de maria\n",
      "6,  col nuevo colombo americano\n",
      "7,  fundacion educativa instituto experimental del atlantico jose celestino mutis\n",
      "8,  lic navarra\n",
      "9,  colegio corazonista\n"
     ]
    },
    {
     "data": {
      "image/png": "[encoded data removed]",
      "text/plain": [
       "<Figure size 432x288 with 1 Axes>"
      ]
     },
     "metadata": {
      "tags": []
     },
     "output_type": "display_data"
    }
   ],
   "source": [
    "prepare_show_graph('20112.csv')"
   ]
  },
  {
   "cell_type": "markdown",
   "metadata": {
    "colab_type": "text",
    "id": "A2RAL2ToeyAh"
   },
   "source": [
    "### 2012"
   ]
  },
  {
   "cell_type": "code",
   "execution_count": null,
   "metadata": {
    "colab": {
     "base_uri": "https://localhost:8080/",
     "height": 439
    },
    "colab_type": "code",
    "id": "DgpX9sd6AyKo",
    "outputId": "6c34950b-3294-4b25-cb14-436381a8c13d"
   },
   "outputs": [
    {
     "name": "stdout",
     "output_type": "stream",
     "text": [
      "0,  col la quinta del puente\n",
      "1,  col los nogales\n",
      "2,  col san jorge de inglaterra\n",
      "3,  colegio bilingue diana oese\n",
      "4,  colegio hispanoamericano\n",
      "5,  colegio colombo británico\n",
      "6,  colegio freinet\n",
      "7,  corporacion educativa colegio italiano galileo galilei\n",
      "8,  gimn vermont\n",
      "9,  col nuevo cambridge\n"
     ]
    },
    {
     "data": {
      "image/png": "[encoded data removed]",
      "text/plain": [
       "<Figure size 432x288 with 1 Axes>"
      ]
     },
     "metadata": {
      "tags": []
     },
     "output_type": "display_data"
    }
   ],
   "source": [
    "prepare_show_graph('20121.csv')"
   ]
  },
  {
   "cell_type": "code",
   "execution_count": null,
   "metadata": {
    "colab": {
     "base_uri": "https://localhost:8080/",
     "height": 439
    },
    "colab_type": "code",
    "id": "QRPAgAW7AyK1",
    "outputId": "771e7200-b1e9-4d33-9cd7-9dccf2637245"
   },
   "outputs": [
    {
     "name": "stdout",
     "output_type": "stream",
     "text": [
      "0,  inst alberto merani\n",
      "1,  col  san bonifacio de las lanzas\n",
      "2,  col de la compania de maria\n",
      "3,  colegio seminario corazonista\n",
      "4,  cambridge school (gimn biling plaza sesamo)\n",
      "5,  lic campo david\n",
      "6,  col anglo americano\n",
      "7,  col nuevo colombo americano\n",
      "8,  colegio corazonista\n",
      "9,  col  san pedro claver\n"
     ]
    },
    {
     "data": {
      "image/png": "[encoded data removed]",
      "text/plain": [
       "<Figure size 432x288 with 1 Axes>"
      ]
     },
     "metadata": {
      "tags": []
     },
     "output_type": "display_data"
    }
   ],
   "source": [
    "prepare_show_graph('20122.csv')"
   ]
  },
  {
   "cell_type": "markdown",
   "metadata": {
    "colab_type": "text",
    "id": "IVtbJl3MeyJY"
   },
   "source": [
    "### 2013"
   ]
  },
  {
   "cell_type": "code",
   "execution_count": null,
   "metadata": {
    "colab": {
     "base_uri": "https://localhost:8080/",
     "height": 439
    },
    "colab_type": "code",
    "id": "dK0KHtCOAykO",
    "outputId": "b2a5bce0-61ac-4f71-9c61-2e2934e039d7"
   },
   "outputs": [
    {
     "name": "stdout",
     "output_type": "stream",
     "text": [
      "0,  colegio bilingue diana oese\n",
      "1,  gimn vermont\n",
      "2,  colegio leonardo da vinci\n",
      "3,  col nuevo cambridge\n",
      "4,  col la quinta del puente\n",
      "5,  col san jorge de inglaterra\n",
      "6,  col los nogales\n",
      "7,  colegio internacional de educacion integral - ciedi\n",
      "8,  col biling buckingham\n",
      "9,  gimnasio campestre san rafael\n"
     ]
    },
    {
     "data": {
      "image/png": "[encoded data removed]",
      "text/plain": [
       "<Figure size 432x288 with 1 Axes>"
      ]
     },
     "metadata": {
      "tags": []
     },
     "output_type": "display_data"
    }
   ],
   "source": [
    "prepare_show_graph('20131.csv')"
   ]
  },
  {
   "cell_type": "code",
   "execution_count": null,
   "metadata": {
    "colab": {
     "base_uri": "https://localhost:8080/",
     "height": 439
    },
    "colab_type": "code",
    "id": "r7N4YLq7Aykc",
    "outputId": "773cd550-c2e3-4132-905e-35317a06f306"
   },
   "outputs": [
    {
     "name": "stdout",
     "output_type": "stream",
     "text": [
      "0,  col nueva granada\n",
      "1,  inst alberto merani\n",
      "2,  colegio seminario corazonista\n",
      "3,  col montessori\n",
      "4,  col nuevo colombo americano\n",
      "5,  gimnasio colombo britanico - bilingüe internacional\n",
      "6,  lic navarra\n",
      "7,  col saint andrews\n",
      "8,  colegio corazonista\n",
      "9,  col anglo americano\n"
     ]
    },
    {
     "data": {
      "image/png": "[encoded data removed]",
      "text/plain": [
       "<Figure size 432x288 with 1 Axes>"
      ]
     },
     "metadata": {
      "tags": []
     },
     "output_type": "display_data"
    }
   ],
   "source": [
    "prepare_show_graph('20132.csv')"
   ]
  },
  {
   "cell_type": "markdown",
   "metadata": {
    "colab_type": "text",
    "id": "zb6bLH3LeyQL"
   },
   "source": [
    "### 2014"
   ]
  },
  {
   "cell_type": "code",
   "execution_count": null,
   "metadata": {
    "colab": {
     "base_uri": "https://localhost:8080/",
     "height": 439
    },
    "colab_type": "code",
    "id": "Uwui3r7bAy-b",
    "outputId": "2deb3137-856d-4cef-b515-006e4ee9c2d7"
   },
   "outputs": [
    {
     "name": "stdout",
     "output_type": "stream",
     "text": [
      "0,  col los nogales\n",
      "1,  col la quinta del puente\n",
      "2,  col san mateo apostol\n",
      "3,  col  montessori british school\n",
      "4,  col san carlos\n",
      "5,  gimn vermont\n",
      "6,  aspaen liceo tacurí\n",
      "7,  aspaen gimnasio cartagena de indias\n",
      "8,  col san jorge de inglaterra\n",
      "9,  col fundacion lic ingles\n"
     ]
    },
    {
     "data": {
      "image/png": "[encoded data removed]",
      "text/plain": [
       "<Figure size 432x288 with 1 Axes>"
      ]
     },
     "metadata": {
      "tags": []
     },
     "output_type": "display_data"
    }
   ],
   "source": [
    "prepare_show_graph('20141.csv')"
   ]
  },
  {
   "cell_type": "code",
   "execution_count": null,
   "metadata": {
    "colab": {
     "base_uri": "https://localhost:8080/",
     "height": 439
    },
    "colab_type": "code",
    "id": "-6dBUUh4Ay-i",
    "outputId": "9c83f1df-4a24-4436-8dd8-25d2379226fb"
   },
   "outputs": [
    {
     "name": "stdout",
     "output_type": "stream",
     "text": [
      "0,  colombo britanico - bilingüe internacional\n",
      "1,  cambridge school (gimn biling plaza sesamo)\n",
      "2,  lic navarra\n",
      "3,  inst alberto merani\n",
      "4,  col nuevo colombo americano\n",
      "5,  lic campo david\n",
      "6,  col anglo americano\n",
      "7,  col refous\n",
      "8,  colegio corazonista\n",
      "9,  col el rosario\n"
     ]
    },
    {
     "data": {
      "image/png": "[encoded data removed]",
      "text/plain": [
       "<Figure size 432x288 with 1 Axes>"
      ]
     },
     "metadata": {
      "tags": []
     },
     "output_type": "display_data"
    }
   ],
   "source": [
    "prepare_show_graph('20142.csv')"
   ]
  },
  {
   "cell_type": "markdown",
   "metadata": {
    "colab_type": "text",
    "id": "_sd6pmMIeyXY"
   },
   "source": [
    "### 2015"
   ]
  },
  {
   "cell_type": "code",
   "execution_count": null,
   "metadata": {
    "colab": {
     "base_uri": "https://localhost:8080/",
     "height": 439
    },
    "colab_type": "code",
    "id": "-Tey44ZdAzQl",
    "outputId": "134682c3-2d32-464c-e3fa-e5eda43a56cb"
   },
   "outputs": [
    {
     "name": "stdout",
     "output_type": "stream",
     "text": [
      "0,  colegio bilingue diana oese\n",
      "1,  col los nogales\n",
      "2,  col la quinta del puente\n",
      "3,  col la colina\n",
      "4,  col san carlos\n",
      "5,  col san jorge de inglaterra\n",
      "6,  colegio philadelphia internacional\n",
      "7,  col santa francisca romana\n",
      "8,  col campoalegre ltda\n",
      "9,  col san mateo apostol\n"
     ]
    },
    {
     "data": {
      "image/png": "[encoded data removed]",
      "text/plain": [
       "<Figure size 432x288 with 1 Axes>"
      ]
     },
     "metadata": {
      "tags": []
     },
     "output_type": "display_data"
    }
   ],
   "source": [
    "prepare_show_graph('20151.csv')"
   ]
  },
  {
   "cell_type": "code",
   "execution_count": null,
   "metadata": {
    "colab": {
     "base_uri": "https://localhost:8080/",
     "height": 439
    },
    "colab_type": "code",
    "id": "HKKsz1vtAzQv",
    "outputId": "975b4491-f9f1-43bb-83ee-d7c8568dedd2"
   },
   "outputs": [
    {
     "name": "stdout",
     "output_type": "stream",
     "text": [
      "0,  lic campo david\n",
      "1,  col nuevo colombo americano\n",
      "2,  lic navarra\n",
      "3,  inst alberto merani\n",
      "4,  cambridge school (gimn biling plaza sesamo)\n",
      "5,  col anglo americano\n",
      "6,  col internacional de bogota\n",
      "7,  col el pinar\n",
      "8,  colombo britanico - bilingüe internacional\n",
      "9,  fund col uis\n"
     ]
    },
    {
     "data": {
      "image/png": "[encoded data removed]",
      "text/plain": [
       "<Figure size 432x288 with 1 Axes>"
      ]
     },
     "metadata": {
      "tags": []
     },
     "output_type": "display_data"
    }
   ],
   "source": [
    "prepare_show_graph('20152.csv')"
   ]
  },
  {
   "cell_type": "markdown",
   "metadata": {
    "colab_type": "text",
    "id": "5yuc2dI5eye6"
   },
   "source": [
    "### 2016"
   ]
  },
  {
   "cell_type": "code",
   "execution_count": null,
   "metadata": {
    "colab": {
     "base_uri": "https://localhost:8080/",
     "height": 439
    },
    "colab_type": "code",
    "id": "gaWHw63bAzji",
    "outputId": "672c4344-3b8d-4029-9825-8676e278599e"
   },
   "outputs": [
    {
     "name": "stdout",
     "output_type": "stream",
     "text": [
      "0,  colegio bilingue diana oese\n",
      "1,  colegio leonardo da vinci\n",
      "2,  col los nogales\n",
      "3,  col nuevo cambridge\n",
      "4,  col san jorge de inglaterra\n",
      "5,  col san carlos\n",
      "6,  gimn vermont\n",
      "7,  col la quinta del puente\n",
      "8,  lic campestre de pereira\n",
      "9,  col campoalegre ltda\n"
     ]
    },
    {
     "data": {
      "image/png": "[encoded data removed]",
      "text/plain": [
       "<Figure size 432x288 with 1 Axes>"
      ]
     },
     "metadata": {
      "tags": []
     },
     "output_type": "display_data"
    }
   ],
   "source": [
    "prepare_show_graph('20161.csv')"
   ]
  },
  {
   "cell_type": "code",
   "execution_count": null,
   "metadata": {
    "colab": {
     "base_uri": "https://localhost:8080/",
     "height": 439
    },
    "colab_type": "code",
    "id": "1hgfY7kpAzjm",
    "outputId": "8d95f337-6287-468b-aba4-4fc279f1307c"
   },
   "outputs": [
    {
     "name": "stdout",
     "output_type": "stream",
     "text": [
      "0,  lic campo david\n",
      "1,  col nuevo colombo americano\n",
      "2,  col nueva inglaterra\n",
      "3,  nuevo colegio del prado\n",
      "4,  colombo britanico - bilingüe internacional\n",
      "5,  col anglo americano\n",
      "6,  lic navarra\n",
      "7,  gimnasio el hontanar\n",
      "8,  inst alberto merani\n",
      "9,  col  san bonifacio de las lanzas\n"
     ]
    },
    {
     "data": {
      "image/png": "[encoded data removed]",
      "text/plain": [
       "<Figure size 432x288 with 1 Axes>"
      ]
     },
     "metadata": {
      "tags": []
     },
     "output_type": "display_data"
    }
   ],
   "source": [
    "prepare_show_graph('20162.csv')"
   ]
  },
  {
   "cell_type": "markdown",
   "metadata": {
    "colab_type": "text",
    "id": "A8MDz7RseynZ"
   },
   "source": [
    "### 2017"
   ]
  },
  {
   "cell_type": "code",
   "execution_count": null,
   "metadata": {
    "colab": {
     "base_uri": "https://localhost:8080/",
     "height": 439
    },
    "colab_type": "code",
    "id": "2SEeZkq_Az18",
    "outputId": "5aada8ac-623e-49f2-b1d9-8ae346461bfe"
   },
   "outputs": [
    {
     "name": "stdout",
     "output_type": "stream",
     "text": [
      "0,  col nuevo cambridge\n",
      "1,  col la quinta del puente\n",
      "2,  colegio bilingue diana oese\n",
      "3,  col la colina\n",
      "4,  colegio philadelphia internacional\n",
      "5,  gimn vermont\n",
      "6,  col santa francisca romana\n",
      "7,  col los nogales\n",
      "8,  col san carlos\n",
      "9,  col san jorge de inglaterra\n"
     ]
    },
    {
     "data": {
      "image/png": "[encoded data removed]",
      "text/plain": [
       "<Figure size 432x288 with 1 Axes>"
      ]
     },
     "metadata": {
      "tags": []
     },
     "output_type": "display_data"
    }
   ],
   "source": [
    "prepare_show_graph('20171.csv')"
   ]
  },
  {
   "cell_type": "code",
   "execution_count": null,
   "metadata": {
    "colab": {
     "base_uri": "https://localhost:8080/",
     "height": 439
    },
    "colab_type": "code",
    "id": "S_G9-21lAz2F",
    "outputId": "e8a8734b-beff-4592-8a85-ac124d80fc08"
   },
   "outputs": [
    {
     "name": "stdout",
     "output_type": "stream",
     "text": [
      "0,  lic campo david\n",
      "1,  gimnasio colombo britanico - bilingüe internacional\n",
      "2,  gimnasio el hontanar\n",
      "3,  col anglo americano\n",
      "4,  col nuevo colombo americano\n",
      "5,  nuevo colegio del prado\n",
      "6,  lic navarra\n",
      "7,  col  san bonifacio de las lanzas\n",
      "8,  inst alberto merani\n",
      "9,  col  anglocanadiense de neiva\n"
     ]
    },
    {
     "data": {
      "image/png": "[encoded data removed]",
      "text/plain": [
       "<Figure size 432x288 with 1 Axes>"
      ]
     },
     "metadata": {
      "tags": []
     },
     "output_type": "display_data"
    }
   ],
   "source": [
    "prepare_show_graph('20172.csv')"
   ]
  },
  {
   "cell_type": "markdown",
   "metadata": {
    "colab_type": "text",
    "id": "9QvZvicIeyzo"
   },
   "source": [
    "### 2018"
   ]
  },
  {
   "cell_type": "code",
   "execution_count": null,
   "metadata": {
    "colab": {
     "base_uri": "https://localhost:8080/",
     "height": 439
    },
    "colab_type": "code",
    "id": "1_BlpbMFA0J6",
    "outputId": "05c5a514-85d2-401e-fa76-343163ba0a0f"
   },
   "outputs": [
    {
     "name": "stdout",
     "output_type": "stream",
     "text": [
      "0,  col la quinta del puente\n",
      "1,  col nuevo cambridge\n",
      "2,  colegio bilingue diana oese\n",
      "3,  colegio harvard\n",
      "4,  col san jorge de inglaterra\n",
      "5,  gimn alessandro volta\n",
      "6,  col san carlos\n",
      "7,  colegio philadelphia internacional\n",
      "8,  col los nogales\n",
      "9,  gimn vermont\n"
     ]
    },
    {
     "data": {
      "image/png": "[encoded data removed]",
      "text/plain": [
       "<Figure size 432x288 with 1 Axes>"
      ]
     },
     "metadata": {
      "tags": []
     },
     "output_type": "display_data"
    }
   ],
   "source": [
    "prepare_show_graph('20181.csv')"
   ]
  },
  {
   "cell_type": "code",
   "execution_count": null,
   "metadata": {
    "colab": {
     "base_uri": "https://localhost:8080/",
     "height": 439
    },
    "colab_type": "code",
    "id": "dwmBG7rzA0KA",
    "outputId": "9b0d466f-6460-44bb-9bdf-0757e6cd9517"
   },
   "outputs": [
    {
     "name": "stdout",
     "output_type": "stream",
     "text": [
      "0,  col heraldos del evangelio\n",
      "1,  lic campo david\n",
      "2,  cambridge school (gimn biling plaza sesamo)\n",
      "3,  col nuevo colombo americano\n",
      "4,  inst alberto merani\n",
      "5,  gimnasio colombo britanico - bilingüe internacional\n",
      "6,  col anglo americano\n",
      "7,  aspaen gimnasio cantillana\n",
      "8,  lic navarra\n",
      "9,  col ingles\n"
     ]
    },
    {
     "data": {
      "image/png": "[encoded data removed]",
      "text/plain": [
       "<Figure size 432x288 with 1 Axes>"
      ]
     },
     "metadata": {
      "tags": []
     },
     "output_type": "display_data"
    }
   ],
   "source": [
    "prepare_show_graph('20182.csv')"
   ]
  },
  {
   "cell_type": "markdown",
   "metadata": {
    "colab_type": "text",
    "id": "5GaSDwGl3fir"
   },
   "source": [
    "## Solución punto 3\n",
    "Cada estudiante puede presentar su prueba vinculado a un colegio o como prueba individual. Calcular el número de estudiantes para cada año de cada grupo."
   ]
  },
  {
   "cell_type": "markdown",
   "metadata": {
    "colab_type": "text",
    "id": "OLOmpYy4xfVz"
   },
   "source": [
    "### Metadatos del punto 3"
   ]
  },
  {
   "cell_type": "code",
   "execution_count": null,
   "metadata": {
    "colab": {},
    "colab_type": "code",
    "id": "vr5P6QhexkfU"
   },
   "outputs": [],
   "source": [
    "metadata_2006_2011 = {\n",
    "    'files': ['20061',\n",
    "              '20062',\n",
    "              '20071',\n",
    "              '20072',\n",
    "              '20081',\n",
    "              '20082',\n",
    "              '20091',\n",
    "              '20092',\n",
    "              '20101',\n",
    "              '20102',\n",
    "              '20111'],\n",
    "    'column': 'estu_estudiante'\n",
    "}\n",
    "\n",
    "metadata_2011_20182 = {\n",
    "    'files': ['20112',\n",
    "              '20121',\n",
    "              '20122',\n",
    "              '20131',\n",
    "              '20132',\n",
    "              '20141',\n",
    "              '20142',\n",
    "              '20151',\n",
    "              '20152',\n",
    "              '20161',\n",
    "              '20162',\n",
    "              '20171',\n",
    "              '20172',\n",
    "              '20181',\n",
    "              '20182',\n",
    "              '20191'],\n",
    "    'column': 'ESTU_ESTUDIANTE'\n",
    "}"
   ]
  },
  {
   "cell_type": "markdown",
   "metadata": {
    "colab_type": "text",
    "id": "Je-NB4w0Oko7"
   },
   "source": [
    "### Funciones punto 3"
   ]
  },
  {
   "cell_type": "code",
   "execution_count": null,
   "metadata": {
    "colab": {},
    "colab_type": "code",
    "id": "rqS4-pSayq5R"
   },
   "outputs": [],
   "source": [
    "def read_dataframe(path_file):\n",
    "  return spark.read.load(path_file, format='csv', sep='¬', inferSchema='true', header='true')"
   ]
  },
  {
   "cell_type": "code",
   "execution_count": null,
   "metadata": {
    "colab": {},
    "colab_type": "code",
    "id": "xhf3zLKQyuAq"
   },
   "outputs": [],
   "source": [
    "def get_dataframe_columns(dataframe, columns):\n",
    "  return dataframe.select(columns)"
   ]
  },
  {
   "cell_type": "code",
   "execution_count": null,
   "metadata": {
    "colab": {},
    "colab_type": "code",
    "id": "0Y3OvKcwyxJR"
   },
   "outputs": [],
   "source": [
    "def count_value(dataframe, column, value):\n",
    "  return dataframe.filter(dataframe[column] == value).count()"
   ]
  },
  {
   "cell_type": "code",
   "execution_count": null,
   "metadata": {
    "colab": {},
    "colab_type": "code",
    "id": "1f-rP9XIzSu_"
   },
   "outputs": [],
   "source": [
    "def get_students_type(files, column_filter, student, individual):\n",
    "  columns = ['period', 'students', 'individual']\n",
    "  values = []\n",
    "\n",
    "  for file in files:\n",
    "    path_file = f'{target_sb_ulr}/{file}.txt'\n",
    "\n",
    "    dataframe = read_dataframe(path_file)\n",
    "    dataframe = get_dataframe_columns(dataframe, column_filter)\n",
    "\n",
    "    students_counter = count_value(dataframe, column_filter, student)\n",
    "    individual_counter = count_value(dataframe, column_filter, individual)\n",
    "\n",
    "    row_values = (file, students_counter, individual_counter)\n",
    "    values.append(row_values)\n",
    "\n",
    "  return spark.createDataFrame(values, columns)"
   ]
  },
  {
   "cell_type": "markdown",
   "metadata": {
    "colab_type": "text",
    "id": "lEF37fMMrIev"
   },
   "source": [
    "### Resultados"
   ]
  },
  {
   "cell_type": "code",
   "execution_count": 14,
   "metadata": {
    "colab": {
     "base_uri": "https://localhost:8080/",
     "height": 204
    },
    "colab_type": "code",
    "id": "bJ9ARgUbmKi1",
    "outputId": "144cad0a-d7d6-46a1-f392-9ff030ab184a"
   },
   "outputs": [
    {
     "name": "stdout",
     "output_type": "stream",
     "text": [
      "+------+--------+----------+\n",
      "|period|students|individual|\n",
      "+------+--------+----------+\n",
      "| 20061|       0|     61070|\n",
      "| 20062|       0|    410808|\n",
      "| 20071|       0|     67703|\n",
      "| 20072|       0|    434686|\n",
      "| 20081|       0|     68897|\n",
      "+------+--------+----------+\n",
      "only showing top 5 rows\n",
      "\n"
     ]
    }
   ],
   "source": [
    "files1 = metadata_2006_2011['files']\n",
    "column1 = metadata_2006_2011['column']\n",
    "\n",
    "files2 = metadata_2011_20182['files']\n",
    "column2 = metadata_2011_20182['column']\n",
    "target_file = f'{target_inscription_url}/inscriptions.csv'\n",
    "\n",
    "dataframe1 = get_students_type(files1, column1, 0, 1)\n",
    "dataframe2 = get_students_type(files2, column2, 'ESTUDIANTE', 'INDIVIDUAL')\n",
    "\n",
    "total_dataframe = dataframe1.union(dataframe2)\n",
    "total_dataframe.toPandas().to_csv(target_file)\n",
    "\n",
    "total_dataframe.show(5)"
   ]
  }
 ],
 "metadata": {
  "colab": {
   "collapsed_sections": [
    "jVHUVcGej8zB"
   ],
   "name": "icfes.ipynb",
   "provenance": [],
   "toc_visible": true,
   "version": "0.3.2"
  },
  "kernelspec": {
   "display_name": "Python 3",
   "language": "python",
   "name": "python3"
  },
  "language_info": {
   "codemirror_mode": {
    "name": "ipython",
    "version": 3
   },
   "file_extension": ".py",
   "mimetype": "text/x-python",
   "name": "python",
   "nbconvert_exporter": "python",
   "pygments_lexer": "ipython3",
   "version": "3.7.4"
  }
 },
 "nbformat": 4,
 "nbformat_minor": 4
}
