{
 "cells": [
  {
   "cell_type": "markdown",
   "metadata": {},
   "source": [
    "# Taller 1\n",
    "****\n",
    "Juan David Arias Guarín   "
   ]
  },
  {
   "cell_type": "markdown",
   "metadata": {},
   "source": [
    "## Punto 1 - Eficiencia\n",
    "\n",
    "Dada un conjunto de n imágenes (n de gran tamaño) se pretende encontrar los pares de imágenes que tengan un nivel de similitud S tal que S(P1,P2) > umbral, para solucionar dicho problema se hará uso del modelo de programación **Map Reduce**.   <br>\n",
    "La siguiente imágen muestra el proceso general propuesto, en el cual se hace uso de la técnica \"similaryty join\" o unión por similitud. \n",
    "\n",
    "Consideraciones iniciales\n",
    "\n",
    "* $n(n-1)/2$ >>> número de comparaciones requeridas \n",
    "* $w$ >>> tiempo que toma un nodo en comparar dos imágenes\n",
    "* $g$ >>> número de grupos a utilizar \n",
    "* $p$ >>> número de procesos a utilziar, se asume $p == g$"
   ]
  },
  {
   "cell_type": "markdown",
   "metadata": {},
   "source": [
    "![Map Reduce similarity join](images/map_reduce_images.png)"
   ]
  },
  {
   "cell_type": "markdown",
   "metadata": {},
   "source": [
    "### Tarea de mapeo\n",
    "\n",
    "En la fase de mapeo se cargan las imágenes a comparar y se crean las combinaciones necesarias entre los g grupos, el resultado de la fase de mapeo será una estructura de la forma $ (clave, valor) $ donde la llave indica los grupos a comparar y el valor asociado es un conjunto de imágenes de longitud $n/g$\n",
    "\n",
    "**Entrada:**  \n",
    "* n imágenes separadas en g grupos\n",
    "* tamaño: n\n",
    "  \n",
    "**Salida:** \n",
    "* para cada grupo se generan $g-1$ pares $(clave, valor)$ conn clave $(gi, gj)$ con $i = 1, 2, ..., g$ y $j = 1, 2, ..., g-1$\n",
    "* el valor asociado es $[P1, P2, ..., Pn/g]$, una lista de imágenes de longitd $n/g$\n",
    "* tamaño: $n/g$"
   ]
  },
  {
   "cell_type": "markdown",
   "metadata": {},
   "source": [
    "### Tarea de reducción\n",
    "\n",
    "En la fase de reducción se crean los reductores con base a las tuplas que tengan los mismos grupos en su llave, y se procede a realozar las comparaciones de las imágenes entre los distintos grupos. La salida del reductor serán los pares de imágenes que cumplan que $S( P1, P2 ) > umbral$\n",
    "\n",
    "\n",
    "**Entrada:** \n",
    "* Salida de la función de mapeo por factor de replicación\n",
    "* tamaño: $n(g - 1)$\n",
    "\n",
    "**Salida:**\n",
    "* pares de imágenes que cumplan que $S( P1, P2 ) > umbral$"
   ]
  },
  {
   "cell_type": "markdown",
   "metadata": {},
   "source": [
    "### Tasa de replicación\n",
    "\n",
    "Considerando la tasa de replicación como el cociente entre los datos de entrada a la fase de reducción y los datos de entrada a la fase de mapeo\n",
    "\n",
    "$r = \\dfrac{input-reduce}{input-map}$ >>> $r = \\dfrac{n(g - 1)}{n}$ >>> $r = g - 1$\n"
   ]
  },
  {
   "cell_type": "markdown",
   "metadata": {},
   "source": [
    "### Eficiencia \n",
    "\n",
    "Consideraciones\n",
    "1. debido a que el valor de n es grande entonces $(n - 1)$ es aproximadamente $n$\n",
    "2. debido a que el valor de g es grande entonces $(g - 1)$ es aproximadamente $g$\n",
    "\n",
    "$E = \\dfrac{T1}{pTp}$\n",
    "\n",
    "con T1 tiempo que toma un proceso, entonces <br><br>\n",
    "$T1 = w(\\dfrac{n(n -1)}{2})$ <br><br>\n",
    "además, dado que $p = g$ entonces <br><br>    \n",
    "$E = \\dfrac{w(\\dfrac{n(n -1)}{2})}{gTg}$. <br><br> \n",
    "\n",
    "Tg es el tiempo que toman g procesos en completar la tarea, para el caso en particular <br><br> \n",
    "$Tg = \\dfrac{w (\\dfrac{n(n - 1)}{2})}{g} + 2Cr \\dfrac{n}{g}$ <br><br> \n",
    "\n",
    "usando las definiciones 1 y 2 y reemplazando Tg tenemos entonces <br><br> \n",
    "$\\dfrac{w(n^2 / 2)}{g(\\dfrac{w (n^2 / 2)}{g} + 2Cr \\dfrac{n}{g})}$ >>>\n",
    "$\\dfrac{w(n^2 / 2)}{g(\\dfrac{w (n^2 / 2 + 2Cr * n)}{g})}$ <br><br> \n",
    "\n",
    "Cancelando las $g$ del denominador, multiplicando y dividiendo el lado derecho por $w$ nos queda que <br><br> \n",
    "$\\dfrac{w(n^2 / 2)}{w (n^2 / 2) + \\dfrac{2C}{w} * r * nw}$ <br><br> \n",
    "\n",
    "Agrupando por $w$, eliminando la constante $2C / w$ y reemplanzando $r$ por $(g - 1)$ ~ $g$, nos queda que <br><br> \n",
    "$E = \\dfrac{w(n^2 / 2)}{w (n^2 / 2 + ng)}$ <br><br> \n",
    "\n",
    "cancelando las w y aplicando ley de oreja nos queda <br><br> \n",
    "$\\dfrac{\\dfrac{n^2}{2}}{\\dfrac{n^2}{2} + ng}$ >>> $\\dfrac{\\dfrac{n^2}{2}}{\\dfrac{n^2 + ng}{2}}$ >>>\n",
    "$\\dfrac{n^2}{n^2 + 2ng}$ >>> $\\dfrac{n^2}{n(n + 2g)}$ >>> $\\dfrac{n}{n + 2g}$\n",
    "\n",
    "\n",
    "usando los valores de $g = 10^3$ y $n = 10^6$"
   ]
  },
  {
   "cell_type": "code",
   "execution_count": 23,
   "metadata": {},
   "outputs": [],
   "source": [
    "n = 1000000\n",
    "g = 1000"
   ]
  },
  {
   "cell_type": "code",
   "execution_count": 25,
   "metadata": {},
   "outputs": [
    {
     "data": {
      "text/plain": [
       "0.998003992015968"
      ]
     },
     "execution_count": 25,
     "metadata": {},
     "output_type": "execute_result"
    }
   ],
   "source": [
    "eficiency = n / (n + (2 * g))\n",
    "eficiency"
   ]
  },
  {
   "cell_type": "markdown",
   "metadata": {},
   "source": [
    "### Análisis de escalabilidad dada la eficiencia\n",
    "\n",
    "El análisis de escalabilidad se llevará a cabo haciendo 3 comparaciones\n",
    "1. Misma cantidd de imágenes $(10^6)$ con diferentes cantidades de nodos\n",
    "2. Mismca cantidad de nodos $(10^3)$ con diferentes cantidades de imágenes\n",
    "3. Incremento proporcional entre imágenes y nodos"
   ]
  },
  {
   "cell_type": "code",
   "execution_count": 2,
   "metadata": {},
   "outputs": [],
   "source": [
    "import matplotlib.pyplot as plt"
   ]
  },
  {
   "cell_type": "code",
   "execution_count": 19,
   "metadata": {},
   "outputs": [],
   "source": [
    "nodes_amount = [i for i in range(1000, 1000000, 1000)]\n",
    "images_amount = [i for i in range(1000000, 1000000000, 1000000)]"
   ]
  },
  {
   "cell_type": "code",
   "execution_count": 13,
   "metadata": {},
   "outputs": [],
   "source": [
    "def calculate_efficience(images, nodes):\n",
    "    return images / (images + (2 * nodes))"
   ]
  },
  {
   "cell_type": "markdown",
   "metadata": {},
   "source": [
    "**1. Misma cantidd de imágenes $(10^6)$ con diferentes cantidades de nodos**"
   ]
  },
  {
   "cell_type": "code",
   "execution_count": 17,
   "metadata": {},
   "outputs": [
    {
     "data": {
      "text/plain": [
       "Text(0, 0.5, 'Eficiencia')"
      ]
     },
     "execution_count": 17,
     "metadata": {},
     "output_type": "execute_result"
    },
    {
     "data": {
      "image/png": "[encoded data removed]",
      "text/plain": [
       "<Figure size 432x288 with 1 Axes>"
      ]
     },
     "metadata": {
      "needs_background": "light"
     },
     "output_type": "display_data"
    }
   ],
   "source": [
    "images = 1000000\n",
    "efficiency = [calculate_efficience(images, nodes) for nodes in nodes_amount]\n",
    "\n",
    "plt.plot(nodes_amount, efficiency)\n",
    "plt.title('Cantidad de nodos vs eficiencia')\n",
    "plt.xlabel('cantidad de nodos')\n",
    "plt.ylabel('Eficiencia')"
   ]
  },
  {
   "cell_type": "markdown",
   "metadata": {},
   "source": [
    "**2. Mismca cantidad de nodos $(10^3)$ con diferentes cantidades de imágenes**"
   ]
  },
  {
   "cell_type": "code",
   "execution_count": 20,
   "metadata": {},
   "outputs": [
    {
     "data": {
      "text/plain": [
       "Text(0, 0.5, 'Eficiencia')"
      ]
     },
     "execution_count": 20,
     "metadata": {},
     "output_type": "execute_result"
    },
    {
     "data": {
      "image/png": "[encoded data removed]",
      "text/plain": [
       "<Figure size 432x288 with 1 Axes>"
      ]
     },
     "metadata": {
      "needs_background": "light"
     },
     "output_type": "display_data"
    }
   ],
   "source": [
    "nodes = 1000\n",
    "efficiency = [calculate_efficience(images, nodes) for images in images_amount]\n",
    "\n",
    "plt.plot(images_amount, efficiency)\n",
    "plt.title('Cantidad de imágenes vs eficiencia')\n",
    "plt.xlabel('cantidad de imágenes')\n",
    "plt.ylabel('Eficiencia')"
   ]
  },
  {
   "cell_type": "markdown",
   "metadata": {},
   "source": [
    "**3. Incremento proporcional entre imágenes y nodos**"
   ]
  },
  {
   "cell_type": "code",
   "execution_count": 62,
   "metadata": {},
   "outputs": [
    {
     "name": "stdout",
     "output_type": "stream",
     "text": [
      "[(1000000, 1000), (2000000, 2000), (3000000, 3000), (4000000, 4000), (5000000, 5000)]\n",
      "[(1000000, 1000, 0.998003992015968), (2000000, 2000, 0.998003992015968), (3000000, 3000, 0.998003992015968)]\n"
     ]
    },
    {
     "data": {
      "text/plain": [
       "Text(0, 0.5, 'Eficiencia')"
      ]
     },
     "execution_count": 62,
     "metadata": {},
     "output_type": "execute_result"
    },
    {
     "data": {
      "image/png": "[encoded data removed]",
      "text/plain": [
       "<Figure size 432x288 with 1 Axes>"
      ]
     },
     "metadata": {
      "needs_background": "light"
     },
     "output_type": "display_data"
    }
   ],
   "source": [
    "data = zip(images_amount, nodes_amount)\n",
    "first_data_tuples = list(zip(images_amount, nodes_amount))[:5]\n",
    "\n",
    "efficiency = [calculate_efficience(images, nodes) for (images, nodes) in data]\n",
    "first_efficiency_tuples = list(zip(images_amount, nodes_amount, efficiency))[:3]\n",
    "\n",
    "print(first_data_tuples)\n",
    "print(first_efficiency_tuples)\n",
    "\n",
    "plt.plot([i for i in range(len(efficiency))], efficiency)\n",
    "plt.title('Eficiencia con incremento constante de imágenes y nodos')\n",
    "plt.xlabel('Número de iteraciones')\n",
    "plt.ylabel('Eficiencia')"
   ]
  },
  {
   "cell_type": "markdown",
   "metadata": {},
   "source": [
    "## Punto 2 - wallclock\n",
    "\n",
    "Calcular el tiempo que toma transmitir las imágenes para la fase de reducción\n",
    "\n",
    "Consideraciones\n",
    "* dataset de $10^6$ imágenes\n",
    "* cada imagen de tamaño $1Mb = 10^6bytes$\n",
    "* $g = 10^3$\n",
    "* Red Ethernet de $1Gb/seg = 10^9bits/seg$\n",
    "\n",
    "Iniciamos calculando el tamaño del dataset completo en bits, esto es $10^6 * 10^6 * 8 = 8*10^{12}$.\n",
    "la entrada a la fase de reducción está dada por  $n(g - 1)$ con $n$ tamaño del set de imágenes y $g$ número de grupos.\n",
    "Procedemos entonces a reemplazar los valores con los datos dados\n",
    "\n",
    "$8*10^{12}(10^3 - 1) bits$ es la cantidad total de datos que se desean transmitir a la fase de reducción.\n",
    "\n",
    "Con una velocidad de $10^9bits/seg$ tenemos entonces que el tiempo tomado es \n",
    "\n",
    "$\\dfrac{8*10^{12}(10^3-1) bits}{10^9bits/seg}$ >>> $\\dfrac{8*10^{12}(10^3-1) seg}{10^9}$ >>> $7992000 seg = 92.5 days$"
   ]
  },
  {
   "cell_type": "markdown",
   "metadata": {},
   "source": [
    "## Punto 3 - Join de dos tablas"
   ]
  },
  {
   "cell_type": "markdown",
   "metadata": {},
   "source": [
    "Dada la relación L(url_origen, url_destino) para los caminos en la red de tipo (url_1, url_2, url_3) queremos hallar cuántas posibles rutas hay desde url_1 hasta url_3 que involucren sólo un nodo intermedio.\n",
    "\n",
    "|From|To|\n",
    "|---|---|\n",
    "|url_1|url_2|\n",
    "|url_1|url_3|\n",
    "|url_2|url_3|\n",
    "|url_2|url_4|\n",
    "\n",
    "para lograr el objetivo anterior debemos realizar un JOIN de L con sigo mismo, esto es $L1(u1, u2)$ JOIN $L2(u2, u3)$, en la siguiente figura se puede apreciar el procedimiento del JOIN"
   ]
  },
  {
   "cell_type": "markdown",
   "metadata": {},
   "source": [
    "![Map Reduce join](images/map_reduce_join.png)"
   ]
  },
  {
   "cell_type": "markdown",
   "metadata": {},
   "source": [
    "Suponiendo que usamos un Hash Join y que la cantidad de tuplas de $L$ está dada por $Tl$ entonces tenemos qué\n",
    "\n",
    "$L1$ >>> archivo $L$ de tamaño $Tl$  \n",
    "$L2$ >>> archivo $L$ de tamaño $Tl$  \n",
    "\n",
    "### Tarea de mapeo\n",
    "\n",
    "**Entrada**\n",
    "* $Tl + Tl = 2Tl$\n",
    "* $Tl + Tl = 2Tl$"
   ]
  },
  {
   "cell_type": "markdown",
   "metadata": {},
   "source": [
    "### Tarea de reducción\n",
    "\n",
    "**Salida**\n",
    "* $Tl + Tl = 2Tl$\n",
    "* $(Tl * Tl) * P = Tl^2 * P$"
   ]
  },
  {
   "cell_type": "markdown",
   "metadata": {},
   "source": [
    "### Costo total\n",
    "* $Costo = 2Tl + 2Tl + Tl^2 * p$\n",
    "* $Costo = 4Tl + Tl^2*P$\n",
    "* $Costo = = Tl(4 + Tl*P)$"
   ]
  },
  {
   "cell_type": "markdown",
   "metadata": {},
   "source": [
    "### Número de procesos de mapeo y reducción \n",
    "\n",
    "Consideraciones iniciales\n",
    "* $1*10^9$ >>> número de páginas a analizar\n",
    "* $10$ $links$ >>> cantidad de links por página\n",
    "* $10^{10}$ >>> tamaño de $Tl$\n",
    "* $4096$ $bytes$ >>> tamaño de cada página\n",
    "* $400$ $tuplas$ >>> cantidad de tuplas por página\n",
    "* $11$ $Gb$ >>> memoria disponible por nodo\n",
    "\n",
    "$tuple-size = \\dfrac{page-size}{tuples-per-pages}$  <br><br>\n",
    "$tuple-size = \\dfrac{4096}{400} = 10.24bytes$  <br><br>\n",
    "\n",
    "Con base al tamaño de cada tupla procedemos a calcular el tamaño total de los datos transportados <br><br>\n",
    "$Tl = 10.24bytes * 10^{10} = 1.024*10^{11}$ <br><br>\n",
    "\n",
    "Teniendo en cuenta que cada nodo tiene capacidad de $11Gb$ disponibles para el proceso entonces <br><br>\n",
    "$11Gb = 1.18*10^10bytes$ <br><br>\n",
    "\n",
    "Por lo tanto en memoria caben  <br><br>\n",
    "$\\dfrac{1.18*10^10bytes}{10.24bytes} = 1.15*10^9 tuples$ <br><br>\n",
    "\n",
    "Finalmente dividiendo la cantidad total de tuplas entre la capacidad de tuplas por nodo tenemos <br><br>\n",
    "$\\dfrac{10^{10}}{1.15*10^9} = 9$ <br><br>\n",
    "\n",
    "Concluímos entonces que para procesar las $10^9$ $pages$ son necesarios $9$ $nodos$"
   ]
  }
 ],
 "metadata": {
  "kernelspec": {
   "display_name": "Python 3",
   "language": "python",
   "name": "python3"
  },
  "language_info": {
   "codemirror_mode": {
    "name": "ipython",
    "version": 3
   },
   "file_extension": ".py",
   "mimetype": "text/x-python",
   "name": "python",
   "nbconvert_exporter": "python",
   "pygments_lexer": "ipython3",
   "version": "3.7.3"
  }
 },
 "nbformat": 4,
 "nbformat_minor": 4
}
